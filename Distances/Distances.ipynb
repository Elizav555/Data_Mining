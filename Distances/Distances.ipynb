{
  "nbformat": 4,
  "nbformat_minor": 0,
  "metadata": {
    "colab": {
      "name": "Distances.ipynb",
      "provenance": [],
      "collapsed_sections": [],
      "authorship_tag": "ABX9TyN/Vwk9ZBNCQ2i8GwxLOcuZ",
      "include_colab_link": true
    },
    "kernelspec": {
      "name": "python3",
      "display_name": "Python 3"
    },
    "language_info": {
      "name": "python"
    }
  },
  "cells": [
    {
      "cell_type": "markdown",
      "metadata": {
        "id": "view-in-github",
        "colab_type": "text"
      },
      "source": [
        "<a href=\"https://colab.research.google.com/github/Elizav555/Data_Mining/blob/main/Distances/Distances.ipynb\" target=\"_parent\"><img src=\"https://colab.research.google.com/assets/colab-badge.svg\" alt=\"Open In Colab\"/></a>"
      ]
    },
    {
      "cell_type": "markdown",
      "source": [
        "\n"
      ],
      "metadata": {
        "id": "MHawIn8m6iW5"
      }
    },
    {
      "cell_type": "code",
      "execution_count": 4,
      "metadata": {
        "colab": {
          "base_uri": "https://localhost:8080/"
        },
        "id": "Ht5P2QLn6ORL",
        "outputId": "a4e4fe17-8f79-4e32-80ce-68ca9d853c1d"
      },
      "outputs": [
        {
          "output_type": "stream",
          "name": "stdout",
          "text": [
            "[nltk_data] Downloading package punkt to /root/nltk_data...\n",
            "[nltk_data]   Unzipping tokenizers/punkt.zip.\n",
            "[nltk_data] Downloading package stopwords to /root/nltk_data...\n",
            "[nltk_data]   Unzipping corpora/stopwords.zip.\n"
          ]
        },
        {
          "output_type": "execute_result",
          "data": {
            "text/plain": [
              "True"
            ]
          },
          "metadata": {},
          "execution_count": 4
        }
      ],
      "source": [
        "import nltk\n",
        "import requests\n",
        "import string\n",
        "from sklearn.feature_extraction.text import CountVectorizer\n",
        "import pandas as pd\n",
        "import numpy as np\n",
        "from bs4 import BeautifulSoup\n",
        "from nltk.tokenize import word_tokenize\n",
        "from nltk.corpus import stopwords\n",
        "nltk.download('punkt')\n",
        "nltk.download('stopwords')"
      ]
    },
    {
      "cell_type": "markdown",
      "source": [
        "Сначала я решила взять статью https://www.thegamer.com/horizon-forbidden-west-review-ps5/, которую трудно отнести к какой-либо категории, но мне был интересен результат "
      ],
      "metadata": {
        "id": "pzcX0FJ6bm7P"
      }
    },
    {
      "cell_type": "code",
      "source": [
        "url = 'https://www.thegamer.com/horizon-forbidden-west-review-ps5/'\n",
        "headers = requests.utils.default_headers()\n",
        "headers.update(\n",
        "    {\n",
        "        'User-Agent': 'My User Agent 1.0',\n",
        "    }\n",
        ")\n",
        "response = requests.get(url, headers=headers)\n",
        "soup = BeautifulSoup(response.text)\n",
        "root = soup.body\n",
        "root_childs = [e.name for e in root.descendants if e.name is not None]\n",
        "#print(set(root_childs))"
      ],
      "metadata": {
        "id": "l_3lwDDc60J6"
      },
      "execution_count": 5,
      "outputs": []
    },
    {
      "cell_type": "markdown",
      "source": [
        "В коде выше я просматривала список Html тэгов, которые содержат текст. Ниже я получила все слова, которые они содержат"
      ],
      "metadata": {
        "id": "dMLn0ocib24w"
      }
    },
    {
      "cell_type": "code",
      "source": [
        "textTags = soup.find_all(['p','h1','h2','h3','h4','label','a','ul','li'])\n",
        "whole_text = ' '.join(map(lambda it: it.text, textTags)) \n",
        "all_words = word_tokenize(whole_text)\n",
        "#print(all_words)\n",
        "print('Number of all words: ',len(all_words))"
      ],
      "metadata": {
        "colab": {
          "base_uri": "https://localhost:8080/"
        },
        "id": "x1KDYqCpDGKD",
        "outputId": "6c7fc8ba-e626-40d6-cfb6-e0f443e9e692"
      },
      "execution_count": 26,
      "outputs": [
        {
          "output_type": "stream",
          "name": "stdout",
          "text": [
            "Number of all words:  2636\n"
          ]
        }
      ]
    },
    {
      "cell_type": "markdown",
      "source": [
        "Функцию ниже я использовала, чтобы очищать текст от знаков пунктуации, стоп слов и цифр как при обработке статей, так и при составлении условных словарей, которые содержали слова, относящиеся к категориям"
      ],
      "metadata": {
        "id": "l3a7zizdcG7v"
      }
    },
    {
      "cell_type": "code",
      "source": [
        "def process_whole_text(all_words_set):\n",
        "  symb_to_remove = stopwords.words('english') +  list(string.punctuation) +  list(string.digits) + list('’')\n",
        "  text_cleared = [word for word in all_words_set if word not in symb_to_remove]\n",
        "  text_cleared = [word for word in text_cleared if not word.isdigit()]\n",
        "  #text_cleared = set(text_cleared)\n",
        "  #print(text_cleared)\n",
        "  return text_cleared\n",
        "\n",
        "horizon_article = process_whole_text(all_words)\n",
        "print('Number of cleared words: ',len(horizon_article))"
      ],
      "metadata": {
        "colab": {
          "base_uri": "https://localhost:8080/"
        },
        "id": "Xze1moSeF_rj",
        "outputId": "64df35d1-2a52-4813-e4c6-7d01b60abea9"
      },
      "execution_count": 27,
      "outputs": [
        {
          "output_type": "stream",
          "name": "stdout",
          "text": [
            "Number of cleared words:  1642\n"
          ]
        }
      ]
    },
    {
      "cell_type": "markdown",
      "source": [
        "https://keywordgenerator.net\n",
        "\n",
        "Сервис, откуда я взяла слова для топиков"
      ],
      "metadata": {
        "id": "IAtJrao7NN6u"
      }
    },
    {
      "cell_type": "code",
      "source": [
        "def process_key_words(file_name, key ):\n",
        "  dataset = pd.read_csv(file_name)\n",
        "  dataset = dataset[key]\n",
        "  words = dataset.values.tolist()\n",
        "  words = list(map(lambda it: it.split(' ') ,words))\n",
        "  words_set = list()\n",
        "  for words in words:\n",
        "    words_set+=words\n",
        "  words_set = set(words_set)\n",
        "  words_set-=set(['']) \n",
        "  words_set = process_whole_text(words_set)\n",
        "  return set(words_set)"
      ],
      "metadata": {
        "id": "oIpYanwdQDWZ"
      },
      "execution_count": 28,
      "outputs": []
    },
    {
      "cell_type": "code",
      "source": [
        "news_words = process_key_words('news.csv','Keyword')\n",
        "science_words = process_key_words('science.csv','Keyword')\n",
        "shopping_words = process_key_words('shopping.csv','Keyword')\n",
        "sport_words = process_key_words('sport.csv','Keyword')\n",
        "\n",
        "news_words = news_words.union(process_key_words('news2.csv','Keywords'))\n",
        "science_words = science_words.union(process_key_words('science2.csv','Keywords'))\n",
        "shopping_words = shopping_words.union(process_key_words('shopping2.csv','Keywords'))\n",
        "sport_words = sport_words.union(process_key_words('sport2.csv','Keywords'))\n",
        "# print('News: ',news_words,'\\n', len(news_words))\n",
        "# print('Science: ',science_words,'\\n', len(science_words))\n",
        "# print('Shopping: ',shopping_words,'\\n', len(shopping_words))\n",
        "# print('Sport: ',sport_words,'\\n', len(sport_words))\n",
        "print('News: ', len(news_words))\n",
        "print('Science: ', len(science_words))\n",
        "print('Shopping: ', len(shopping_words))\n",
        "print('Sport: ', len(sport_words))"
      ],
      "metadata": {
        "colab": {
          "base_uri": "https://localhost:8080/"
        },
        "id": "DdoRe6mGVwvs",
        "outputId": "d77cee0d-3570-4b8e-fa37-4d718d859d06"
      },
      "execution_count": 11,
      "outputs": [
        {
          "output_type": "stream",
          "name": "stdout",
          "text": [
            "News:  983\n",
            "Science:  1089\n",
            "Shopping:  1072\n",
            "Sport:  1052\n"
          ]
        }
      ]
    },
    {
      "cell_type": "code",
      "source": [
        "def parse_from_dictionary(url):\n",
        "  response_dictionary = requests.get(url)\n",
        "  soup_dictionary = BeautifulSoup(response_dictionary.text)\n",
        "  textTags_dictionary = soup_dictionary.find_all('a',class_='btnpopover')\n",
        "  whole_text_dictionary = ' '.join(map(lambda it: it.text, textTags_dictionary)) \n",
        "  all_words_dictionary = word_tokenize(whole_text_dictionary)\n",
        "  all_words_dictionary = process_whole_text(all_words_dictionary)\n",
        "  return(set(all_words_dictionary))\n"
      ],
      "metadata": {
        "id": "BftVXZaAaGHv"
      },
      "execution_count": 12,
      "outputs": []
    },
    {
      "cell_type": "markdown",
      "source": [
        "https://www.niftyword.com/related-words/science/ связанные слова"
      ],
      "metadata": {
        "id": "VhpZxc--gPWF"
      }
    },
    {
      "cell_type": "code",
      "source": [
        "news_words = news_words.union(parse_from_dictionary('https://www.niftyword.com/related-words/news/'))\n",
        "science_words = science_words.union(parse_from_dictionary('https://www.niftyword.com/related-words/science/'))\n",
        "shopping_words= shopping_words.union(parse_from_dictionary('https://www.niftyword.com/related-words/shopping/'))\n",
        "sport_words =sport_words.union(parse_from_dictionary('https://www.niftyword.com/related-words/sport/'))\n",
        "# print('News: ',news_words,'\\n', len(news_words))\n",
        "# print('Science: ',science_words,'\\n', len(science_words))\n",
        "# print('Shopping: ',shopping_words,'\\n', len(shopping_words))\n",
        "# print('Sport: ',sport_words,'\\n', len(sport_words))\n",
        "print('News: ', len(news_words))\n",
        "print('Science: ', len(science_words))\n",
        "print('Shopping: ', len(shopping_words))\n",
        "print('Sport: ', len(sport_words))"
      ],
      "metadata": {
        "colab": {
          "base_uri": "https://localhost:8080/"
        },
        "id": "BOVWbjNLfZA2",
        "outputId": "337d3dac-72ea-4c2c-b21a-73b464f3d9e1"
      },
      "execution_count": 13,
      "outputs": [
        {
          "output_type": "stream",
          "name": "stdout",
          "text": [
            "News:  2756\n",
            "Science:  3666\n",
            "Shopping:  3710\n",
            "Sport:  3403\n"
          ]
        }
      ]
    },
    {
      "cell_type": "markdown",
      "source": [
        "https://keywordtool.io/ru/search/keywords/google/\n",
        "\n",
        "еще один сервис, в котором искала ключевые слова, теперь я могла приступать к анализу первой статьи"
      ],
      "metadata": {
        "id": "WlD3VzIAUbO8"
      }
    },
    {
      "cell_type": "code",
      "source": [
        "def jaccard_fun(a,b,topic):\n",
        "  a= set(a)\n",
        "  b=set(b)\n",
        "  shared = a.intersection(b)\n",
        "  total = a.union(b)\n",
        "  res = len(shared) / len(total)\n",
        "  print('Topic: ',topic,', Shared: ',len(shared),', Total: ',len(total),', Similarity: ',res,', Distance: ',1-res)"
      ],
      "metadata": {
        "id": "eL36arf_jMZx"
      },
      "execution_count": 14,
      "outputs": []
    },
    {
      "cell_type": "code",
      "source": [
        "jaccard_fun(horizon_article ,news_words,'News')\n",
        "jaccard_fun(horizon_article ,science_words,'Science')\n",
        "jaccard_fun(horizon_article ,shopping_words,'Shopping')\n",
        "jaccard_fun(horizon_article ,sport_words,'Sport')"
      ],
      "metadata": {
        "colab": {
          "base_uri": "https://localhost:8080/"
        },
        "id": "HC91NrRTkCXh",
        "outputId": "64744375-51a1-4cc0-ea07-91d66f13e3b1"
      },
      "execution_count": 15,
      "outputs": [
        {
          "output_type": "stream",
          "name": "stdout",
          "text": [
            "Topic:  News , Shared:  99 , Total:  3394 , Similarity:  0.029169121979964643 , Distance:  0.9708308780200353\n",
            "Topic:  Science , Shared:  116 , Total:  4287 , Similarity:  0.027058549101936086 , Distance:  0.9729414508980639\n",
            "Topic:  Shopping , Shared:  121 , Total:  4326 , Similarity:  0.027970411465557097 , Distance:  0.9720295885344429\n",
            "Topic:  Sport , Shared:  126 , Total:  4014 , Similarity:  0.03139013452914798 , Distance:  0.968609865470852\n"
          ]
        }
      ]
    },
    {
      "cell_type": "markdown",
      "source": [
        "Первая выбранная мною статья, оцененная с помощью **коэф жаккара** **оказалась на примерно равном расстоянии** от всех категорий - **приблизительно 0,97**. Однако коэфициент схожести для категорий **новости** и **спорт** были чуть выше, что я считаю верным, так как материал статьи это ревью на новую компьютерную игру"
      ],
      "metadata": {
        "id": "zoUmwM4Vct0s"
      }
    },
    {
      "cell_type": "markdown",
      "source": [
        "https://www.topendsports.com/world/lists/popular-sport/ - статья про популярные виды спорта оказалась моей следующей жертвой"
      ],
      "metadata": {
        "id": "KbBjXNjUpNez"
      }
    },
    {
      "cell_type": "code",
      "source": [
        "response_dictionary = requests.get('https://www.topendsports.com/world/lists/popular-sport/')\n",
        "soup_dictionary = BeautifulSoup(response_dictionary.text)\n",
        "textTags_dictionary = soup_dictionary.find_all(['p','h1','li','a','h2'])\n",
        "whole_text_dictionary = ' '.join(map(lambda it: it.text, textTags_dictionary)) \n",
        "all_words_dictionary = word_tokenize(whole_text_dictionary)\n",
        "#print(all_words_dictionary)\n",
        "print('Number of all words: ',len(all_words_dictionary))"
      ],
      "metadata": {
        "colab": {
          "base_uri": "https://localhost:8080/"
        },
        "id": "dVIeoMuWodWT",
        "outputId": "7beda062-4f9c-4488-a764-a6f1732dd7af"
      },
      "execution_count": 16,
      "outputs": [
        {
          "output_type": "stream",
          "name": "stdout",
          "text": [
            "Number of all words:  16194\n"
          ]
        }
      ]
    },
    {
      "cell_type": "code",
      "source": [
        "sport_article = process_whole_text(all_words_dictionary)\n",
        "#print(sport_article)\n",
        "print('Number of cleared words: ',len(sport_article))"
      ],
      "metadata": {
        "colab": {
          "base_uri": "https://localhost:8080/"
        },
        "id": "RQXl2TnfpxtQ",
        "outputId": "bccb47bc-d2b6-46fd-c839-46b0b04e5498"
      },
      "execution_count": 17,
      "outputs": [
        {
          "output_type": "stream",
          "name": "stdout",
          "text": [
            "Number of cleared words:  8502\n"
          ]
        }
      ]
    },
    {
      "cell_type": "code",
      "source": [
        "jaccard_fun(sport_article ,news_words,'News')\n",
        "jaccard_fun(sport_article ,science_words,'Science')\n",
        "jaccard_fun(sport_article ,shopping_words,'Shopping')\n",
        "jaccard_fun(sport_article ,sport_words,'Sport')"
      ],
      "metadata": {
        "colab": {
          "base_uri": "https://localhost:8080/"
        },
        "id": "Lhfd_GRAp-OK",
        "outputId": "a225351d-3581-43b6-857b-d21626e246a6"
      },
      "execution_count": 18,
      "outputs": [
        {
          "output_type": "stream",
          "name": "stdout",
          "text": [
            "Topic:  News , Shared:  338 , Total:  5310 , Similarity:  0.06365348399246705 , Distance:  0.9363465160075329\n",
            "Topic:  Science , Shared:  405 , Total:  6153 , Similarity:  0.06582155046318869 , Distance:  0.9341784495368113\n",
            "Topic:  Shopping , Shared:  433 , Total:  6169 , Similarity:  0.07018965796725564 , Distance:  0.9298103420327444\n",
            "Topic:  Sport , Shared:  509 , Total:  5786 , Similarity:  0.08797096439681991 , Distance:  0.91202903560318\n"
          ]
        }
      ]
    },
    {
      "cell_type": "markdown",
      "source": [
        "Здесь **коэф жаккара** определил, что наименьшее растояние между этой статьей и тематикой **спорта**, однако из-за большой разницы в размерых словарей и кол-ва слов из статьи схожесть все еще невелика."
      ],
      "metadata": {
        "id": "f5LGu-oXdplB"
      }
    },
    {
      "cell_type": "code",
      "source": [
        "data = [\" \".join(horizon_article), \" \".join(sport_article),\" \".join(news_words),\" \".join(science_words),\" \".join(shopping_words),\" \".join(sport_words)]\n",
        "count_vectorizer = CountVectorizer()\n",
        "vector_matrix = count_vectorizer.fit_transform(data)\n",
        "tokens = count_vectorizer.get_feature_names_out()\n",
        "tokens"
      ],
      "metadata": {
        "id": "EjI6sbWl89pX",
        "colab": {
          "base_uri": "https://localhost:8080/"
        },
        "outputId": "24a9ea0b-9ba2-47fa-b5fd-cbca7105842b"
      },
      "execution_count": 19,
      "outputs": [
        {
          "output_type": "execute_result",
          "data": {
            "text/plain": [
              "array(['000', '031', '0n', ..., 'zymology', 'zymurgy', 'špansko'],\n",
              "      dtype=object)"
            ]
          },
          "metadata": {},
          "execution_count": 19
        }
      ]
    },
    {
      "cell_type": "code",
      "source": [
        "vector_matrix_array = vector_matrix.toarray()\n",
        "vector_matrix_array"
      ],
      "metadata": {
        "id": "dcKAELIkxwfs",
        "colab": {
          "base_uri": "https://localhost:8080/"
        },
        "outputId": "3fbb3f20-29af-4c19-a7c5-d8a3fc7bc351"
      },
      "execution_count": 20,
      "outputs": [
        {
          "output_type": "execute_result",
          "data": {
            "text/plain": [
              "array([[0, 0, 0, ..., 0, 0, 0],\n",
              "       [3, 0, 0, ..., 0, 0, 0],\n",
              "       [0, 0, 1, ..., 0, 0, 0],\n",
              "       [0, 1, 0, ..., 1, 1, 0],\n",
              "       [0, 0, 0, ..., 0, 0, 1],\n",
              "       [0, 0, 1, ..., 0, 0, 0]])"
            ]
          },
          "metadata": {},
          "execution_count": 20
        }
      ]
    },
    {
      "cell_type": "code",
      "source": [
        "def create_dataframe(matrix, tokens):\n",
        "    doc_names = [\"horizon_article\",\"sport_article\",\"news_words\",\"science_words\",\"shopping_words\",\"sport_words\"]\n",
        "    df = pd.DataFrame(data=matrix, index=doc_names, columns=tokens)\n",
        "    return(df)\n",
        "\n",
        "dataframe = create_dataframe(vector_matrix_array,tokens)\n",
        "dataframe"
      ],
      "metadata": {
        "colab": {
          "base_uri": "https://localhost:8080/",
          "height": 331
        },
        "id": "7mGrCwquTHLV",
        "outputId": "fca91d7b-2128-44ee-e92f-5fcbc204a15c"
      },
      "execution_count": 21,
      "outputs": [
        {
          "output_type": "execute_result",
          "data": {
            "text/plain": [
              "                 000  031  0n  0nline  0pera  0t  10  100  10th  11  ...  \\\n",
              "horizon_article    0    0   0       0      0   0   0    0     0   0  ...   \n",
              "sport_article      3    0   0       0      0   0   2    2     0   0  ...   \n",
              "news_words         0    0   1       0      0   0   0    0     0   0  ...   \n",
              "science_words      0    1   0       0      0   0   1    0     1   1  ...   \n",
              "shopping_words     0    0   0       1      0   0   0    0     0   3  ...   \n",
              "sport_words        0    0   1       0      1   1   0    1     0   0  ...   \n",
              "\n",
              "                 zoom  zoos  zourkhaneh  zp  zulla  zuoz  zurich  zymology  \\\n",
              "horizon_article     0     0           0   0      0     0       0         0   \n",
              "sport_article       0     0           0   0      0     0       0         0   \n",
              "news_words          1     1           0   1      0     0       1         0   \n",
              "science_words       1     0           0   0      0     0       0         1   \n",
              "shopping_words      0     0           0   0      1     0       1         0   \n",
              "sport_words         0     0           1   0      0     1       0         0   \n",
              "\n",
              "                 zymurgy  špansko  \n",
              "horizon_article        0        0  \n",
              "sport_article          0        0  \n",
              "news_words             0        0  \n",
              "science_words          1        0  \n",
              "shopping_words         0        1  \n",
              "sport_words            0        0  \n",
              "\n",
              "[6 rows x 11351 columns]"
            ],
            "text/html": [
              "\n",
              "  <div id=\"df-46724d08-eb6f-4469-ac28-685b44fd1ac9\">\n",
              "    <div class=\"colab-df-container\">\n",
              "      <div>\n",
              "<style scoped>\n",
              "    .dataframe tbody tr th:only-of-type {\n",
              "        vertical-align: middle;\n",
              "    }\n",
              "\n",
              "    .dataframe tbody tr th {\n",
              "        vertical-align: top;\n",
              "    }\n",
              "\n",
              "    .dataframe thead th {\n",
              "        text-align: right;\n",
              "    }\n",
              "</style>\n",
              "<table border=\"1\" class=\"dataframe\">\n",
              "  <thead>\n",
              "    <tr style=\"text-align: right;\">\n",
              "      <th></th>\n",
              "      <th>000</th>\n",
              "      <th>031</th>\n",
              "      <th>0n</th>\n",
              "      <th>0nline</th>\n",
              "      <th>0pera</th>\n",
              "      <th>0t</th>\n",
              "      <th>10</th>\n",
              "      <th>100</th>\n",
              "      <th>10th</th>\n",
              "      <th>11</th>\n",
              "      <th>...</th>\n",
              "      <th>zoom</th>\n",
              "      <th>zoos</th>\n",
              "      <th>zourkhaneh</th>\n",
              "      <th>zp</th>\n",
              "      <th>zulla</th>\n",
              "      <th>zuoz</th>\n",
              "      <th>zurich</th>\n",
              "      <th>zymology</th>\n",
              "      <th>zymurgy</th>\n",
              "      <th>špansko</th>\n",
              "    </tr>\n",
              "  </thead>\n",
              "  <tbody>\n",
              "    <tr>\n",
              "      <th>horizon_article</th>\n",
              "      <td>0</td>\n",
              "      <td>0</td>\n",
              "      <td>0</td>\n",
              "      <td>0</td>\n",
              "      <td>0</td>\n",
              "      <td>0</td>\n",
              "      <td>0</td>\n",
              "      <td>0</td>\n",
              "      <td>0</td>\n",
              "      <td>0</td>\n",
              "      <td>...</td>\n",
              "      <td>0</td>\n",
              "      <td>0</td>\n",
              "      <td>0</td>\n",
              "      <td>0</td>\n",
              "      <td>0</td>\n",
              "      <td>0</td>\n",
              "      <td>0</td>\n",
              "      <td>0</td>\n",
              "      <td>0</td>\n",
              "      <td>0</td>\n",
              "    </tr>\n",
              "    <tr>\n",
              "      <th>sport_article</th>\n",
              "      <td>3</td>\n",
              "      <td>0</td>\n",
              "      <td>0</td>\n",
              "      <td>0</td>\n",
              "      <td>0</td>\n",
              "      <td>0</td>\n",
              "      <td>2</td>\n",
              "      <td>2</td>\n",
              "      <td>0</td>\n",
              "      <td>0</td>\n",
              "      <td>...</td>\n",
              "      <td>0</td>\n",
              "      <td>0</td>\n",
              "      <td>0</td>\n",
              "      <td>0</td>\n",
              "      <td>0</td>\n",
              "      <td>0</td>\n",
              "      <td>0</td>\n",
              "      <td>0</td>\n",
              "      <td>0</td>\n",
              "      <td>0</td>\n",
              "    </tr>\n",
              "    <tr>\n",
              "      <th>news_words</th>\n",
              "      <td>0</td>\n",
              "      <td>0</td>\n",
              "      <td>1</td>\n",
              "      <td>0</td>\n",
              "      <td>0</td>\n",
              "      <td>0</td>\n",
              "      <td>0</td>\n",
              "      <td>0</td>\n",
              "      <td>0</td>\n",
              "      <td>0</td>\n",
              "      <td>...</td>\n",
              "      <td>1</td>\n",
              "      <td>1</td>\n",
              "      <td>0</td>\n",
              "      <td>1</td>\n",
              "      <td>0</td>\n",
              "      <td>0</td>\n",
              "      <td>1</td>\n",
              "      <td>0</td>\n",
              "      <td>0</td>\n",
              "      <td>0</td>\n",
              "    </tr>\n",
              "    <tr>\n",
              "      <th>science_words</th>\n",
              "      <td>0</td>\n",
              "      <td>1</td>\n",
              "      <td>0</td>\n",
              "      <td>0</td>\n",
              "      <td>0</td>\n",
              "      <td>0</td>\n",
              "      <td>1</td>\n",
              "      <td>0</td>\n",
              "      <td>1</td>\n",
              "      <td>1</td>\n",
              "      <td>...</td>\n",
              "      <td>1</td>\n",
              "      <td>0</td>\n",
              "      <td>0</td>\n",
              "      <td>0</td>\n",
              "      <td>0</td>\n",
              "      <td>0</td>\n",
              "      <td>0</td>\n",
              "      <td>1</td>\n",
              "      <td>1</td>\n",
              "      <td>0</td>\n",
              "    </tr>\n",
              "    <tr>\n",
              "      <th>shopping_words</th>\n",
              "      <td>0</td>\n",
              "      <td>0</td>\n",
              "      <td>0</td>\n",
              "      <td>1</td>\n",
              "      <td>0</td>\n",
              "      <td>0</td>\n",
              "      <td>0</td>\n",
              "      <td>0</td>\n",
              "      <td>0</td>\n",
              "      <td>3</td>\n",
              "      <td>...</td>\n",
              "      <td>0</td>\n",
              "      <td>0</td>\n",
              "      <td>0</td>\n",
              "      <td>0</td>\n",
              "      <td>1</td>\n",
              "      <td>0</td>\n",
              "      <td>1</td>\n",
              "      <td>0</td>\n",
              "      <td>0</td>\n",
              "      <td>1</td>\n",
              "    </tr>\n",
              "    <tr>\n",
              "      <th>sport_words</th>\n",
              "      <td>0</td>\n",
              "      <td>0</td>\n",
              "      <td>1</td>\n",
              "      <td>0</td>\n",
              "      <td>1</td>\n",
              "      <td>1</td>\n",
              "      <td>0</td>\n",
              "      <td>1</td>\n",
              "      <td>0</td>\n",
              "      <td>0</td>\n",
              "      <td>...</td>\n",
              "      <td>0</td>\n",
              "      <td>0</td>\n",
              "      <td>1</td>\n",
              "      <td>0</td>\n",
              "      <td>0</td>\n",
              "      <td>1</td>\n",
              "      <td>0</td>\n",
              "      <td>0</td>\n",
              "      <td>0</td>\n",
              "      <td>0</td>\n",
              "    </tr>\n",
              "  </tbody>\n",
              "</table>\n",
              "<p>6 rows × 11351 columns</p>\n",
              "</div>\n",
              "      <button class=\"colab-df-convert\" onclick=\"convertToInteractive('df-46724d08-eb6f-4469-ac28-685b44fd1ac9')\"\n",
              "              title=\"Convert this dataframe to an interactive table.\"\n",
              "              style=\"display:none;\">\n",
              "        \n",
              "  <svg xmlns=\"http://www.w3.org/2000/svg\" height=\"24px\"viewBox=\"0 0 24 24\"\n",
              "       width=\"24px\">\n",
              "    <path d=\"M0 0h24v24H0V0z\" fill=\"none\"/>\n",
              "    <path d=\"M18.56 5.44l.94 2.06.94-2.06 2.06-.94-2.06-.94-.94-2.06-.94 2.06-2.06.94zm-11 1L8.5 8.5l.94-2.06 2.06-.94-2.06-.94L8.5 2.5l-.94 2.06-2.06.94zm10 10l.94 2.06.94-2.06 2.06-.94-2.06-.94-.94-2.06-.94 2.06-2.06.94z\"/><path d=\"M17.41 7.96l-1.37-1.37c-.4-.4-.92-.59-1.43-.59-.52 0-1.04.2-1.43.59L10.3 9.45l-7.72 7.72c-.78.78-.78 2.05 0 2.83L4 21.41c.39.39.9.59 1.41.59.51 0 1.02-.2 1.41-.59l7.78-7.78 2.81-2.81c.8-.78.8-2.07 0-2.86zM5.41 20L4 18.59l7.72-7.72 1.47 1.35L5.41 20z\"/>\n",
              "  </svg>\n",
              "      </button>\n",
              "      \n",
              "  <style>\n",
              "    .colab-df-container {\n",
              "      display:flex;\n",
              "      flex-wrap:wrap;\n",
              "      gap: 12px;\n",
              "    }\n",
              "\n",
              "    .colab-df-convert {\n",
              "      background-color: #E8F0FE;\n",
              "      border: none;\n",
              "      border-radius: 50%;\n",
              "      cursor: pointer;\n",
              "      display: none;\n",
              "      fill: #1967D2;\n",
              "      height: 32px;\n",
              "      padding: 0 0 0 0;\n",
              "      width: 32px;\n",
              "    }\n",
              "\n",
              "    .colab-df-convert:hover {\n",
              "      background-color: #E2EBFA;\n",
              "      box-shadow: 0px 1px 2px rgba(60, 64, 67, 0.3), 0px 1px 3px 1px rgba(60, 64, 67, 0.15);\n",
              "      fill: #174EA6;\n",
              "    }\n",
              "\n",
              "    [theme=dark] .colab-df-convert {\n",
              "      background-color: #3B4455;\n",
              "      fill: #D2E3FC;\n",
              "    }\n",
              "\n",
              "    [theme=dark] .colab-df-convert:hover {\n",
              "      background-color: #434B5C;\n",
              "      box-shadow: 0px 1px 3px 1px rgba(0, 0, 0, 0.15);\n",
              "      filter: drop-shadow(0px 1px 2px rgba(0, 0, 0, 0.3));\n",
              "      fill: #FFFFFF;\n",
              "    }\n",
              "  </style>\n",
              "\n",
              "      <script>\n",
              "        const buttonEl =\n",
              "          document.querySelector('#df-46724d08-eb6f-4469-ac28-685b44fd1ac9 button.colab-df-convert');\n",
              "        buttonEl.style.display =\n",
              "          google.colab.kernel.accessAllowed ? 'block' : 'none';\n",
              "\n",
              "        async function convertToInteractive(key) {\n",
              "          const element = document.querySelector('#df-46724d08-eb6f-4469-ac28-685b44fd1ac9');\n",
              "          const dataTable =\n",
              "            await google.colab.kernel.invokeFunction('convertToInteractive',\n",
              "                                                     [key], {});\n",
              "          if (!dataTable) return;\n",
              "\n",
              "          const docLinkHtml = 'Like what you see? Visit the ' +\n",
              "            '<a target=\"_blank\" href=https://colab.research.google.com/notebooks/data_table.ipynb>data table notebook</a>'\n",
              "            + ' to learn more about interactive tables.';\n",
              "          element.innerHTML = '';\n",
              "          dataTable['output_type'] = 'display_data';\n",
              "          await google.colab.output.renderOutput(dataTable, element);\n",
              "          const docLink = document.createElement('div');\n",
              "          docLink.innerHTML = docLinkHtml;\n",
              "          element.appendChild(docLink);\n",
              "        }\n",
              "      </script>\n",
              "    </div>\n",
              "  </div>\n",
              "  "
            ]
          },
          "metadata": {},
          "execution_count": 21
        }
      ]
    },
    {
      "cell_type": "markdown",
      "source": [
        "Тогда я решила попробовать представить свои сеты данных в виде векторов, где 1 обозначает, что данное слово присутствует в наборе (больше 1 если несколько раз), а 0 при его отсутствии"
      ],
      "metadata": {
        "id": "0aKTKKWGjH5e"
      }
    },
    {
      "cell_type": "code",
      "source": [
        "from sklearn.metrics.pairwise import cosine_similarity\n",
        "\n",
        "cosine_similarity_matrix = cosine_similarity(vector_matrix)\n",
        "create_dataframe(cosine_similarity_matrix,[\"horizon_article\",\"sport_article\",\"news_words\",\"science_words\",\"shopping_words\",\"sport_words\"])"
      ],
      "metadata": {
        "colab": {
          "base_uri": "https://localhost:8080/",
          "height": 237
        },
        "id": "OWWZk9MWUUJI",
        "outputId": "f95fd4b8-c466-4f64-ed32-cf64c0250abf"
      },
      "execution_count": 22,
      "outputs": [
        {
          "output_type": "execute_result",
          "data": {
            "text/plain": [
              "                 horizon_article  sport_article  news_words  science_words  \\\n",
              "horizon_article         1.000000       0.261103    0.078373       0.067690   \n",
              "sport_article           0.261103       1.000000    0.074702       0.075010   \n",
              "news_words              0.078373       0.074702    1.000000       0.195748   \n",
              "science_words           0.067690       0.075010    0.195748       1.000000   \n",
              "shopping_words          0.075192       0.074599    0.285372       0.242570   \n",
              "sport_words             0.078453       0.143240    0.189667       0.272381   \n",
              "\n",
              "                 shopping_words  sport_words  \n",
              "horizon_article        0.075192     0.078453  \n",
              "sport_article          0.074599     0.143240  \n",
              "news_words             0.285372     0.189667  \n",
              "science_words          0.242570     0.272381  \n",
              "shopping_words         1.000000     0.338550  \n",
              "sport_words            0.338550     1.000000  "
            ],
            "text/html": [
              "\n",
              "  <div id=\"df-722f294f-5533-44e0-8064-66be631b0073\">\n",
              "    <div class=\"colab-df-container\">\n",
              "      <div>\n",
              "<style scoped>\n",
              "    .dataframe tbody tr th:only-of-type {\n",
              "        vertical-align: middle;\n",
              "    }\n",
              "\n",
              "    .dataframe tbody tr th {\n",
              "        vertical-align: top;\n",
              "    }\n",
              "\n",
              "    .dataframe thead th {\n",
              "        text-align: right;\n",
              "    }\n",
              "</style>\n",
              "<table border=\"1\" class=\"dataframe\">\n",
              "  <thead>\n",
              "    <tr style=\"text-align: right;\">\n",
              "      <th></th>\n",
              "      <th>horizon_article</th>\n",
              "      <th>sport_article</th>\n",
              "      <th>news_words</th>\n",
              "      <th>science_words</th>\n",
              "      <th>shopping_words</th>\n",
              "      <th>sport_words</th>\n",
              "    </tr>\n",
              "  </thead>\n",
              "  <tbody>\n",
              "    <tr>\n",
              "      <th>horizon_article</th>\n",
              "      <td>1.000000</td>\n",
              "      <td>0.261103</td>\n",
              "      <td>0.078373</td>\n",
              "      <td>0.067690</td>\n",
              "      <td>0.075192</td>\n",
              "      <td>0.078453</td>\n",
              "    </tr>\n",
              "    <tr>\n",
              "      <th>sport_article</th>\n",
              "      <td>0.261103</td>\n",
              "      <td>1.000000</td>\n",
              "      <td>0.074702</td>\n",
              "      <td>0.075010</td>\n",
              "      <td>0.074599</td>\n",
              "      <td>0.143240</td>\n",
              "    </tr>\n",
              "    <tr>\n",
              "      <th>news_words</th>\n",
              "      <td>0.078373</td>\n",
              "      <td>0.074702</td>\n",
              "      <td>1.000000</td>\n",
              "      <td>0.195748</td>\n",
              "      <td>0.285372</td>\n",
              "      <td>0.189667</td>\n",
              "    </tr>\n",
              "    <tr>\n",
              "      <th>science_words</th>\n",
              "      <td>0.067690</td>\n",
              "      <td>0.075010</td>\n",
              "      <td>0.195748</td>\n",
              "      <td>1.000000</td>\n",
              "      <td>0.242570</td>\n",
              "      <td>0.272381</td>\n",
              "    </tr>\n",
              "    <tr>\n",
              "      <th>shopping_words</th>\n",
              "      <td>0.075192</td>\n",
              "      <td>0.074599</td>\n",
              "      <td>0.285372</td>\n",
              "      <td>0.242570</td>\n",
              "      <td>1.000000</td>\n",
              "      <td>0.338550</td>\n",
              "    </tr>\n",
              "    <tr>\n",
              "      <th>sport_words</th>\n",
              "      <td>0.078453</td>\n",
              "      <td>0.143240</td>\n",
              "      <td>0.189667</td>\n",
              "      <td>0.272381</td>\n",
              "      <td>0.338550</td>\n",
              "      <td>1.000000</td>\n",
              "    </tr>\n",
              "  </tbody>\n",
              "</table>\n",
              "</div>\n",
              "      <button class=\"colab-df-convert\" onclick=\"convertToInteractive('df-722f294f-5533-44e0-8064-66be631b0073')\"\n",
              "              title=\"Convert this dataframe to an interactive table.\"\n",
              "              style=\"display:none;\">\n",
              "        \n",
              "  <svg xmlns=\"http://www.w3.org/2000/svg\" height=\"24px\"viewBox=\"0 0 24 24\"\n",
              "       width=\"24px\">\n",
              "    <path d=\"M0 0h24v24H0V0z\" fill=\"none\"/>\n",
              "    <path d=\"M18.56 5.44l.94 2.06.94-2.06 2.06-.94-2.06-.94-.94-2.06-.94 2.06-2.06.94zm-11 1L8.5 8.5l.94-2.06 2.06-.94-2.06-.94L8.5 2.5l-.94 2.06-2.06.94zm10 10l.94 2.06.94-2.06 2.06-.94-2.06-.94-.94-2.06-.94 2.06-2.06.94z\"/><path d=\"M17.41 7.96l-1.37-1.37c-.4-.4-.92-.59-1.43-.59-.52 0-1.04.2-1.43.59L10.3 9.45l-7.72 7.72c-.78.78-.78 2.05 0 2.83L4 21.41c.39.39.9.59 1.41.59.51 0 1.02-.2 1.41-.59l7.78-7.78 2.81-2.81c.8-.78.8-2.07 0-2.86zM5.41 20L4 18.59l7.72-7.72 1.47 1.35L5.41 20z\"/>\n",
              "  </svg>\n",
              "      </button>\n",
              "      \n",
              "  <style>\n",
              "    .colab-df-container {\n",
              "      display:flex;\n",
              "      flex-wrap:wrap;\n",
              "      gap: 12px;\n",
              "    }\n",
              "\n",
              "    .colab-df-convert {\n",
              "      background-color: #E8F0FE;\n",
              "      border: none;\n",
              "      border-radius: 50%;\n",
              "      cursor: pointer;\n",
              "      display: none;\n",
              "      fill: #1967D2;\n",
              "      height: 32px;\n",
              "      padding: 0 0 0 0;\n",
              "      width: 32px;\n",
              "    }\n",
              "\n",
              "    .colab-df-convert:hover {\n",
              "      background-color: #E2EBFA;\n",
              "      box-shadow: 0px 1px 2px rgba(60, 64, 67, 0.3), 0px 1px 3px 1px rgba(60, 64, 67, 0.15);\n",
              "      fill: #174EA6;\n",
              "    }\n",
              "\n",
              "    [theme=dark] .colab-df-convert {\n",
              "      background-color: #3B4455;\n",
              "      fill: #D2E3FC;\n",
              "    }\n",
              "\n",
              "    [theme=dark] .colab-df-convert:hover {\n",
              "      background-color: #434B5C;\n",
              "      box-shadow: 0px 1px 3px 1px rgba(0, 0, 0, 0.15);\n",
              "      filter: drop-shadow(0px 1px 2px rgba(0, 0, 0, 0.3));\n",
              "      fill: #FFFFFF;\n",
              "    }\n",
              "  </style>\n",
              "\n",
              "      <script>\n",
              "        const buttonEl =\n",
              "          document.querySelector('#df-722f294f-5533-44e0-8064-66be631b0073 button.colab-df-convert');\n",
              "        buttonEl.style.display =\n",
              "          google.colab.kernel.accessAllowed ? 'block' : 'none';\n",
              "\n",
              "        async function convertToInteractive(key) {\n",
              "          const element = document.querySelector('#df-722f294f-5533-44e0-8064-66be631b0073');\n",
              "          const dataTable =\n",
              "            await google.colab.kernel.invokeFunction('convertToInteractive',\n",
              "                                                     [key], {});\n",
              "          if (!dataTable) return;\n",
              "\n",
              "          const docLinkHtml = 'Like what you see? Visit the ' +\n",
              "            '<a target=\"_blank\" href=https://colab.research.google.com/notebooks/data_table.ipynb>data table notebook</a>'\n",
              "            + ' to learn more about interactive tables.';\n",
              "          element.innerHTML = '';\n",
              "          dataTable['output_type'] = 'display_data';\n",
              "          await google.colab.output.renderOutput(dataTable, element);\n",
              "          const docLink = document.createElement('div');\n",
              "          docLink.innerHTML = docLinkHtml;\n",
              "          element.appendChild(docLink);\n",
              "        }\n",
              "      </script>\n",
              "    </div>\n",
              "  </div>\n",
              "  "
            ]
          },
          "metadata": {},
          "execution_count": 22
        }
      ]
    },
    {
      "cell_type": "markdown",
      "source": [
        "Метрики **косинуса** дали результаты, которые представлены выше. В целом также как и для коэф жаккара **для статьи обзора игры** дистанция до тематик **спорт** и **новости** оказались наименьшими и примерно одинаковыми около 0,92\n",
        "\n",
        "Для статьи про спорт результаты оказались **более показательными**, так как разница в схожести между спортом и остальными категориями увеличилась: \n",
        "**для спорта расстояние примерно 0,85** , когда для остальных категорий оно приближено к 0,92"
      ],
      "metadata": {
        "id": "cHG6Lij_jp-_"
      }
    },
    {
      "cell_type": "code",
      "source": [
        "def jaccard_vector_fun(x, y,topic):\n",
        "    intersect = 0\n",
        "    union = 0\n",
        "    for i,val in enumerate(x):\n",
        "      if x[i]&y[i]!=0:\n",
        "        intersect +=1\n",
        "      if x[i]|y[i]!=0:\n",
        "        union +=1\n",
        "    res = intersect / union\n",
        "    print('Topic: ',topic,', Shared: ',intersect,', Total: ',union,', Similarity: ',res,', Distance: ',1-res)"
      ],
      "metadata": {
        "id": "o2QRmPBvVHjy"
      },
      "execution_count": 23,
      "outputs": []
    },
    {
      "cell_type": "code",
      "source": [
        "jaccard_vector_fun(vector_matrix_array[0] ,vector_matrix_array[2],'News')\n",
        "jaccard_vector_fun(vector_matrix_array[0] ,vector_matrix_array[3],'Science')\n",
        "jaccard_vector_fun(vector_matrix_array[0],vector_matrix_array[4],'Shopping')\n",
        "jaccard_vector_fun(vector_matrix_array[0],vector_matrix_array[5],'Sport')"
      ],
      "metadata": {
        "colab": {
          "base_uri": "https://localhost:8080/"
        },
        "id": "BI1Vd2q_WYzU",
        "outputId": "a838d7dc-6133-4baa-993b-5c90204427a4"
      },
      "execution_count": 24,
      "outputs": [
        {
          "output_type": "stream",
          "name": "stdout",
          "text": [
            "Topic:  News , Shared:  97 , Total:  3273 , Similarity:  0.029636419187289948 , Distance:  0.97036358081271\n",
            "Topic:  Science , Shared:  99 , Total:  4162 , Similarity:  0.02378664103796252 , Distance:  0.9762133589620374\n",
            "Topic:  Shopping , Shared:  118 , Total:  4184 , Similarity:  0.02820267686424474 , Distance:  0.9717973231357553\n",
            "Topic:  Sport , Shared:  113 , Total:  3891 , Similarity:  0.029041377537907993 , Distance:  0.970958622462092\n"
          ]
        }
      ]
    },
    {
      "cell_type": "code",
      "source": [
        "jaccard_vector_fun(vector_matrix_array[1] ,vector_matrix_array[2],'News')\n",
        "jaccard_vector_fun(vector_matrix_array[1] ,vector_matrix_array[3],'Science')\n",
        "jaccard_vector_fun(vector_matrix_array[1],vector_matrix_array[4],'Shopping')\n",
        "jaccard_vector_fun(vector_matrix_array[1],vector_matrix_array[5],'Sport')"
      ],
      "metadata": {
        "colab": {
          "base_uri": "https://localhost:8080/"
        },
        "id": "HZY31utjbMjG",
        "outputId": "68875354-94c2-4b66-e80c-41634e7ba3d7"
      },
      "execution_count": 25,
      "outputs": [
        {
          "output_type": "stream",
          "name": "stdout",
          "text": [
            "Topic:  News , Shared:  254 , Total:  4683 , Similarity:  0.054238735853085626 , Distance:  0.9457612641469144\n",
            "Topic:  Science , Shared:  268 , Total:  5543 , Similarity:  0.04834926934872812 , Distance:  0.9516507306512719\n",
            "Topic:  Shopping , Shared:  301 , Total:  5545 , Similarity:  0.054283137962128046 , Distance:  0.945716862037872\n",
            "Topic:  Sport , Shared:  364 , Total:  5167 , Similarity:  0.07044706793110123 , Distance:  0.9295529320688988\n"
          ]
        }
      ]
    },
    {
      "cell_type": "markdown",
      "source": [
        "Выше я проверила, будет ли более эффективным применение **коэф жаккара** для **векторов**, но результаты не сильно изменились"
      ],
      "metadata": {
        "id": "NxX-SZ99lJzf"
      }
    }
  ]
}