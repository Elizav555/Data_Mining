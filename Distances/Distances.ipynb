{
  "nbformat": 4,
  "nbformat_minor": 0,
  "metadata": {
    "colab": {
      "name": "Distances.ipynb",
      "provenance": [],
      "collapsed_sections": [],
      "authorship_tag": "ABX9TyM9uNG5lTjxs/TCOFlysRjA",
      "include_colab_link": true
    },
    "kernelspec": {
      "name": "python3",
      "display_name": "Python 3"
    },
    "language_info": {
      "name": "python"
    }
  },
  "cells": [
    {
      "cell_type": "markdown",
      "metadata": {
        "id": "view-in-github",
        "colab_type": "text"
      },
      "source": [
        "<a href=\"https://colab.research.google.com/github/Elizav555/Data_Mining/blob/main/Distances/Distances.ipynb\" target=\"_parent\"><img src=\"https://colab.research.google.com/assets/colab-badge.svg\" alt=\"Open In Colab\"/></a>"
      ]
    },
    {
      "cell_type": "markdown",
      "source": [
        "\n"
      ],
      "metadata": {
        "id": "MHawIn8m6iW5"
      }
    },
    {
      "cell_type": "code",
      "execution_count": 4,
      "metadata": {
        "colab": {
          "base_uri": "https://localhost:8080/"
        },
        "id": "Ht5P2QLn6ORL",
        "outputId": "a4e4fe17-8f79-4e32-80ce-68ca9d853c1d"
      },
      "outputs": [
        {
          "output_type": "stream",
          "name": "stdout",
          "text": [
            "[nltk_data] Downloading package punkt to /root/nltk_data...\n",
            "[nltk_data]   Unzipping tokenizers/punkt.zip.\n",
            "[nltk_data] Downloading package stopwords to /root/nltk_data...\n",
            "[nltk_data]   Unzipping corpora/stopwords.zip.\n"
          ]
        },
        {
          "output_type": "execute_result",
          "data": {
            "text/plain": [
              "True"
            ]
          },
          "metadata": {},
          "execution_count": 4
        }
      ],
      "source": [
        "import nltk\n",
        "import requests\n",
        "import string\n",
        "from sklearn.feature_extraction.text import CountVectorizer\n",
        "import pandas as pd\n",
        "import numpy as np\n",
        "from bs4 import BeautifulSoup\n",
        "from nltk.tokenize import word_tokenize\n",
        "from nltk.corpus import stopwords\n",
        "nltk.download('punkt')\n",
        "nltk.download('stopwords')"
      ]
    },
    {
      "cell_type": "markdown",
      "source": [
        "Сначала я решила взять статью https://www.thegamer.com/horizon-forbidden-west-review-ps5/, которую трудно отнести к какой-либо категории, но мне был интересен результат "
      ],
      "metadata": {
        "id": "pzcX0FJ6bm7P"
      }
    },
    {
      "cell_type": "code",
      "source": [
        "url = 'https://www.thegamer.com/horizon-forbidden-west-review-ps5/'\n",
        "headers = requests.utils.default_headers()\n",
        "headers.update(\n",
        "    {\n",
        "        'User-Agent': 'My User Agent 1.0',\n",
        "    }\n",
        ")\n",
        "response = requests.get(url, headers=headers)\n",
        "soup = BeautifulSoup(response.text)\n",
        "root = soup.body\n",
        "root_childs = [e.name for e in root.descendants if e.name is not None]\n",
        "#print(set(root_childs))"
      ],
      "metadata": {
        "id": "l_3lwDDc60J6"
      },
      "execution_count": 5,
      "outputs": []
    },
    {
      "cell_type": "markdown",
      "source": [
        "В коде выше я просматривала список Html тэгов, которые содержат текст. Ниже я получила все слова, которые они содержат"
      ],
      "metadata": {
        "id": "dMLn0ocib24w"
      }
    },
    {
      "cell_type": "code",
      "source": [
        "textTags = soup.find_all(['p','h1','h2','h3','h4','label','a','ul','li'])\n",
        "whole_text = ' '.join(map(lambda it: it.text, textTags)) \n",
        "all_words = word_tokenize(whole_text)\n",
        "#print(all_words)\n",
        "print('Number of all words: ',len(all_words))"
      ],
      "metadata": {
        "colab": {
          "base_uri": "https://localhost:8080/"
        },
        "id": "x1KDYqCpDGKD",
        "outputId": "6c7fc8ba-e626-40d6-cfb6-e0f443e9e692"
      },
      "execution_count": 26,
      "outputs": [
        {
          "output_type": "stream",
          "name": "stdout",
          "text": [
            "Number of all words:  2636\n"
          ]
        }
      ]
    },
    {
      "cell_type": "markdown",
      "source": [
        "Функцию ниже я использовала, чтобы очищать текст от знаков пунктуации, стоп слов и цифр как при обработке статей, так и при составлении условных словарей, которые содержали слова, относящиеся к категориям"
      ],
      "metadata": {
        "id": "l3a7zizdcG7v"
      }
    },
    {
      "cell_type": "code",
      "source": [
        "def process_whole_text(all_words_set):\n",
        "  symb_to_remove = stopwords.words('english') +  list(string.punctuation) +  list(string.digits) + list('’')\n",
        "  text_cleared = [word for word in all_words_set if word not in symb_to_remove]\n",
        "  text_cleared = [word for word in text_cleared if word.isalpha()]\n",
        "  return text_cleared\n",
        "\n",
        "horizon_article = process_whole_text(all_words)\n",
        "print('Number of cleared words: ',len(horizon_article))"
      ],
      "metadata": {
        "colab": {
          "base_uri": "https://localhost:8080/"
        },
        "id": "Xze1moSeF_rj",
        "outputId": "96f8ca3c-2dac-4d4e-a6cf-0fd8ded6768d"
      },
      "execution_count": 41,
      "outputs": [
        {
          "output_type": "stream",
          "name": "stdout",
          "text": [
            "Number of cleared words:  1599\n"
          ]
        }
      ]
    },
    {
      "cell_type": "markdown",
      "source": [
        "https://keywordgenerator.net\n",
        "\n",
        "Сервис, откуда я взяла слова для топиков"
      ],
      "metadata": {
        "id": "IAtJrao7NN6u"
      }
    },
    {
      "cell_type": "code",
      "source": [
        "def process_key_words(file_name, key ):\n",
        "  dataset = pd.read_csv(file_name)\n",
        "  dataset = dataset[key]\n",
        "  words = dataset.values.tolist()\n",
        "  words = list(map(lambda it: it.split(' ') ,words))\n",
        "  words_set = list()\n",
        "  for words in words:\n",
        "    words_set+=words\n",
        "  words_set = set(words_set)\n",
        "  words_set-=set(['']) \n",
        "  words_set = process_whole_text(words_set)\n",
        "  return set(words_set)"
      ],
      "metadata": {
        "id": "oIpYanwdQDWZ"
      },
      "execution_count": 42,
      "outputs": []
    },
    {
      "cell_type": "code",
      "source": [
        "news_words = process_key_words('news.csv','Keyword')\n",
        "science_words = process_key_words('science.csv','Keyword')\n",
        "shopping_words = process_key_words('shopping.csv','Keyword')\n",
        "sport_words = process_key_words('sport.csv','Keyword')\n",
        "\n",
        "news_words = news_words.union(process_key_words('news2.csv','Keywords'))\n",
        "science_words = science_words.union(process_key_words('science2.csv','Keywords'))\n",
        "shopping_words = shopping_words.union(process_key_words('shopping2.csv','Keywords'))\n",
        "sport_words = sport_words.union(process_key_words('sport2.csv','Keywords'))\n",
        "print('News: ', len(news_words))\n",
        "print('Science: ', len(science_words))\n",
        "print('Shopping: ', len(shopping_words))\n",
        "print('Sport: ', len(sport_words))"
      ],
      "metadata": {
        "colab": {
          "base_uri": "https://localhost:8080/"
        },
        "id": "DdoRe6mGVwvs",
        "outputId": "4ced0a15-8e18-44a2-f994-a180d29167f6"
      },
      "execution_count": 43,
      "outputs": [
        {
          "output_type": "stream",
          "name": "stdout",
          "text": [
            "News:  939\n",
            "Science:  1034\n",
            "Shopping:  1003\n",
            "Sport:  1008\n"
          ]
        }
      ]
    },
    {
      "cell_type": "code",
      "source": [
        "def parse_from_dictionary(url):\n",
        "  response_dictionary = requests.get(url)\n",
        "  soup_dictionary = BeautifulSoup(response_dictionary.text)\n",
        "  textTags_dictionary = soup_dictionary.find_all('a',class_='btnpopover')\n",
        "  whole_text_dictionary = ' '.join(map(lambda it: it.text, textTags_dictionary)) \n",
        "  all_words_dictionary = word_tokenize(whole_text_dictionary)\n",
        "  all_words_dictionary = process_whole_text(all_words_dictionary)\n",
        "  return(set(all_words_dictionary))\n"
      ],
      "metadata": {
        "id": "BftVXZaAaGHv"
      },
      "execution_count": 44,
      "outputs": []
    },
    {
      "cell_type": "markdown",
      "source": [
        "https://www.niftyword.com/related-words/science/ связанные слова"
      ],
      "metadata": {
        "id": "VhpZxc--gPWF"
      }
    },
    {
      "cell_type": "code",
      "source": [
        "news_words = news_words.union(parse_from_dictionary('https://www.niftyword.com/related-words/news/'))\n",
        "science_words = science_words.union(parse_from_dictionary('https://www.niftyword.com/related-words/science/'))\n",
        "shopping_words= shopping_words.union(parse_from_dictionary('https://www.niftyword.com/related-words/shopping/'))\n",
        "sport_words =sport_words.union(parse_from_dictionary('https://www.niftyword.com/related-words/sport/'))\n",
        "print('News: ', len(news_words))\n",
        "print('Science: ', len(science_words))\n",
        "print('Shopping: ', len(shopping_words))\n",
        "print('Sport: ', len(sport_words))"
      ],
      "metadata": {
        "colab": {
          "base_uri": "https://localhost:8080/"
        },
        "id": "BOVWbjNLfZA2",
        "outputId": "34830573-42b6-4388-ffad-50039317c92d"
      },
      "execution_count": 45,
      "outputs": [
        {
          "output_type": "stream",
          "name": "stdout",
          "text": [
            "News:  2710\n",
            "Science:  3611\n",
            "Shopping:  3640\n",
            "Sport:  3358\n"
          ]
        }
      ]
    },
    {
      "cell_type": "markdown",
      "source": [
        "https://keywordtool.io/ru/search/keywords/google/\n",
        "\n",
        "еще один сервис, в котором искала ключевые слова, теперь я могла приступать к анализу первой статьи"
      ],
      "metadata": {
        "id": "WlD3VzIAUbO8"
      }
    },
    {
      "cell_type": "code",
      "source": [
        "def jaccard_fun(a,b,topic):\n",
        "  a= set(a)\n",
        "  b=set(b)\n",
        "  shared = a.intersection(b)\n",
        "  total = a.union(b)\n",
        "  res = len(shared) / len(total)\n",
        "  print('Topic: ',topic,', Shared: ',len(shared),', Total: ',len(total),', Similarity: ',res,', Distance: ',1-res)"
      ],
      "metadata": {
        "id": "eL36arf_jMZx"
      },
      "execution_count": 46,
      "outputs": []
    },
    {
      "cell_type": "code",
      "source": [
        "jaccard_fun(horizon_article ,news_words,'News')\n",
        "jaccard_fun(horizon_article ,science_words,'Science')\n",
        "jaccard_fun(horizon_article ,shopping_words,'Shopping')\n",
        "jaccard_fun(horizon_article ,sport_words,'Sport')"
      ],
      "metadata": {
        "colab": {
          "base_uri": "https://localhost:8080/"
        },
        "id": "HC91NrRTkCXh",
        "outputId": "d30b653d-9252-4875-b37c-b984ca630e50"
      },
      "execution_count": 47,
      "outputs": [
        {
          "output_type": "stream",
          "name": "stdout",
          "text": [
            "Topic:  News , Shared:  97 , Total:  3326 , Similarity:  0.02916416115453999 , Distance:  0.97083583884546\n",
            "Topic:  Science , Shared:  116 , Total:  4208 , Similarity:  0.027566539923954372 , Distance:  0.9724334600760456\n",
            "Topic:  Shopping , Shared:  121 , Total:  4232 , Similarity:  0.028591682419659734 , Distance:  0.9714083175803403\n",
            "Topic:  Sport , Shared:  126 , Total:  3945 , Similarity:  0.03193916349809886 , Distance:  0.9680608365019011\n"
          ]
        }
      ]
    },
    {
      "cell_type": "markdown",
      "source": [
        "Первая выбранная мною статья, оцененная с помощью **коэф жаккара** **оказалась на примерно равном расстоянии** от всех категорий - **приблизительно 0,97**. Однако коэфициент схожести для категорий **новости** и **спорт** были чуть выше, что я считаю верным, так как материал статьи это ревью на новую компьютерную игру"
      ],
      "metadata": {
        "id": "zoUmwM4Vct0s"
      }
    },
    {
      "cell_type": "markdown",
      "source": [
        "https://www.topendsports.com/world/lists/popular-sport/ - статья про популярные виды спорта оказалась моей следующей жертвой"
      ],
      "metadata": {
        "id": "KbBjXNjUpNez"
      }
    },
    {
      "cell_type": "code",
      "source": [
        "def process_article(link):\n",
        "  response_dictionary = requests.get(link)\n",
        "  soup_dictionary = BeautifulSoup(response_dictionary.text)\n",
        "  textTags_dictionary = soup_dictionary.find_all(['p','h1','li','a','h2'])\n",
        "  whole_text_dictionary = ' '.join(map(lambda it: it.text, textTags_dictionary)) \n",
        "  all_words_dictionary = word_tokenize(whole_text_dictionary)\n",
        "  #print(all_words_dictionary)\n",
        "  print('Number of all words: ',len(all_words_dictionary))\n",
        "  article = process_whole_text(all_words_dictionary)\n",
        "  print('Number of cleared words: ',len(article))\n",
        "  return article"
      ],
      "metadata": {
        "id": "dVIeoMuWodWT"
      },
      "execution_count": 48,
      "outputs": []
    },
    {
      "cell_type": "code",
      "source": [
        "sport_article = process_article('https://www.topendsports.com/world/lists/popular-sport/')"
      ],
      "metadata": {
        "colab": {
          "base_uri": "https://localhost:8080/"
        },
        "id": "RQXl2TnfpxtQ",
        "outputId": "865b25f0-4fd4-45db-c06b-9b4b3e08168a"
      },
      "execution_count": 49,
      "outputs": [
        {
          "output_type": "stream",
          "name": "stdout",
          "text": [
            "Number of all words:  16225\n",
            "Number of cleared words:  7915\n"
          ]
        }
      ]
    },
    {
      "cell_type": "code",
      "source": [
        "jaccard_fun(sport_article ,news_words,'News')\n",
        "jaccard_fun(sport_article ,science_words,'Science')\n",
        "jaccard_fun(sport_article ,shopping_words,'Shopping')\n",
        "jaccard_fun(sport_article ,sport_words,'Sport')"
      ],
      "metadata": {
        "colab": {
          "base_uri": "https://localhost:8080/"
        },
        "id": "Lhfd_GRAp-OK",
        "outputId": "351f67da-c547-4134-a96a-e556cc8ee777"
      },
      "execution_count": 50,
      "outputs": [
        {
          "output_type": "stream",
          "name": "stdout",
          "text": [
            "Topic:  News , Shared:  337 , Total:  5059 , Similarity:  0.06661395532713975 , Distance:  0.9333860446728602\n",
            "Topic:  Science , Shared:  401 , Total:  5896 , Similarity:  0.06801221166892808 , Distance:  0.9319877883310719\n",
            "Topic:  Shopping , Shared:  431 , Total:  5895 , Similarity:  0.0731128074639525 , Distance:  0.9268871925360475\n",
            "Topic:  Sport , Shared:  509 , Total:  5535 , Similarity:  0.09196025293586269 , Distance:  0.9080397470641373\n"
          ]
        }
      ]
    },
    {
      "cell_type": "markdown",
      "source": [
        "Здесь **коэф жаккара** определил, что наименьшее растояние между этой статьей и тематикой **спорта** **0,9** , однако из-за большой разницы в размерых словарей и кол-ва слов из статьи схожесть все еще невелика."
      ],
      "metadata": {
        "id": "f5LGu-oXdplB"
      }
    },
    {
      "cell_type": "code",
      "source": [
        "science_article = process_article('https://en.wikipedia.org/wiki/Science')\n",
        "jaccard_fun(science_article ,news_words,'News')\n",
        "jaccard_fun(science_article ,science_words,'Science')\n",
        "jaccard_fun(science_article ,shopping_words,'Shopping')\n",
        "jaccard_fun(science_article ,sport_words,'Sport')"
      ],
      "metadata": {
        "colab": {
          "base_uri": "https://localhost:8080/"
        },
        "id": "s6-A4wBEoS_h",
        "outputId": "0bf8c33d-2c2d-4f43-aa41-58e22d37369f"
      },
      "execution_count": 51,
      "outputs": [
        {
          "output_type": "stream",
          "name": "stdout",
          "text": [
            "Number of all words:  32844\n",
            "Number of cleared words:  15550\n",
            "Topic:  News , Shared:  470 , Total:  6768 , Similarity:  0.06944444444444445 , Distance:  0.9305555555555556\n",
            "Topic:  Science , Shared:  862 , Total:  7277 , Similarity:  0.11845540744812423 , Distance:  0.8815445925518758\n",
            "Topic:  Shopping , Shared:  546 , Total:  7622 , Similarity:  0.07163474153765416 , Distance:  0.9283652584623459\n",
            "Topic:  Sport , Shared:  530 , Total:  7356 , Similarity:  0.07205002718868951 , Distance:  0.9279499728113105\n"
          ]
        }
      ]
    },
    {
      "cell_type": "markdown",
      "source": [
        "Тогда я решила проверить, что даст анализ первой страницы, которая выходит,когда гуглишь science - любимая википедия. Расстояние до категории **науки** ожидаемо **наименьшее и равно 0,88** , до остальных тем примерно одинаково и равно 0,93"
      ],
      "metadata": {
        "id": "hsk0vezDpexL"
      }
    },
    {
      "cell_type": "code",
      "source": [
        "data = [\" \".join(horizon_article), \" \".join(sport_article),\" \".join(science_article),\" \".join(news_words),\" \".join(science_words),\" \".join(shopping_words),\" \".join(sport_words)]\n",
        "count_vectorizer = CountVectorizer()\n",
        "vector_matrix = count_vectorizer.fit_transform(data)\n",
        "tokens = count_vectorizer.get_feature_names_out()\n",
        "tokens"
      ],
      "metadata": {
        "id": "EjI6sbWl89pX",
        "colab": {
          "base_uri": "https://localhost:8080/"
        },
        "outputId": "430f197c-8431-475a-c022-e502d51704f7"
      },
      "execution_count": 52,
      "outputs": [
        {
          "output_type": "execute_result",
          "data": {
            "text/plain": [
              "array(['aa', 'aaa', 'aaboe', ..., 'ꮳꮃꭹ', '한국어', 'ﬁrst'], dtype=object)"
            ]
          },
          "metadata": {},
          "execution_count": 52
        }
      ]
    },
    {
      "cell_type": "code",
      "source": [
        "vector_matrix_array = vector_matrix.toarray()\n",
        "vector_matrix_array"
      ],
      "metadata": {
        "id": "dcKAELIkxwfs",
        "colab": {
          "base_uri": "https://localhost:8080/"
        },
        "outputId": "13b72ade-c18d-47b3-c416-01f92b24a88c"
      },
      "execution_count": 53,
      "outputs": [
        {
          "output_type": "execute_result",
          "data": {
            "text/plain": [
              "array([[0, 1, 0, ..., 0, 0, 0],\n",
              "       [0, 0, 0, ..., 0, 0, 0],\n",
              "       [0, 0, 1, ..., 2, 2, 1],\n",
              "       ...,\n",
              "       [0, 0, 0, ..., 0, 0, 0],\n",
              "       [1, 0, 0, ..., 0, 0, 0],\n",
              "       [0, 0, 0, ..., 0, 0, 0]])"
            ]
          },
          "metadata": {},
          "execution_count": 53
        }
      ]
    },
    {
      "cell_type": "code",
      "source": [
        "def create_dataframe(matrix, tokens):\n",
        "    doc_names = [\"horizon_article\",\"sport_article\",\"science_article\",\"news_words\",\"science_words\",\"shopping_words\",\"sport_words\"]\n",
        "    df = pd.DataFrame(data=matrix, index=doc_names, columns=tokens)\n",
        "    return(df)\n",
        "\n",
        "dataframe = create_dataframe(vector_matrix_array,tokens)\n",
        "dataframe"
      ],
      "metadata": {
        "colab": {
          "base_uri": "https://localhost:8080/",
          "height": 394
        },
        "id": "7mGrCwquTHLV",
        "outputId": "972cd97b-b103-4ee7-ea25-565cea460999"
      },
      "execution_count": 54,
      "outputs": [
        {
          "output_type": "execute_result",
          "data": {
            "text/plain": [
              "                 aa  aaa  aaboe  aadvantage  aaj  aakash  aand  abandon  \\\n",
              "horizon_article   0    1      0           0    0       0     0        1   \n",
              "sport_article     0    0      0           0    0       1     1        0   \n",
              "science_article   0    0      1           0    0       0     0        0   \n",
              "news_words        0    0      0           0    1       0     0        1   \n",
              "science_words     0    0      0           0    0       0     0        0   \n",
              "shopping_words    1    0      0           1    0       0     0        1   \n",
              "sport_words       0    0      0           0    0       0     0        0   \n",
              "\n",
              "                 abandoned  abandonment  ...  太史公書  孫叔敖  文言  日本語  粵語  西門豹  贛語  \\\n",
              "horizon_article          0            0  ...     0    0   0    0   0    0   0   \n",
              "sport_article            0            0  ...     0    0   0    0   0    0   0   \n",
              "science_article          0            0  ...     1    2   2    2   2    1   2   \n",
              "news_words               0            0  ...     0    0   0    0   0    0   0   \n",
              "science_words            0            0  ...     0    0   0    0   0    0   0   \n",
              "shopping_words           0            1  ...     0    0   0    0   0    0   0   \n",
              "sport_words              1            0  ...     0    0   0    0   0    0   0   \n",
              "\n",
              "                 ꮳꮃꭹ  한국어  ﬁrst  \n",
              "horizon_article    0    0     0  \n",
              "sport_article      0    0     0  \n",
              "science_article    2    2     1  \n",
              "news_words         0    0     0  \n",
              "science_words      0    0     0  \n",
              "shopping_words     0    0     0  \n",
              "sport_words        0    0     0  \n",
              "\n",
              "[7 rows x 13280 columns]"
            ],
            "text/html": [
              "\n",
              "  <div id=\"df-b4d6e3ca-7135-4b92-8887-3f5e2ed0c0c2\">\n",
              "    <div class=\"colab-df-container\">\n",
              "      <div>\n",
              "<style scoped>\n",
              "    .dataframe tbody tr th:only-of-type {\n",
              "        vertical-align: middle;\n",
              "    }\n",
              "\n",
              "    .dataframe tbody tr th {\n",
              "        vertical-align: top;\n",
              "    }\n",
              "\n",
              "    .dataframe thead th {\n",
              "        text-align: right;\n",
              "    }\n",
              "</style>\n",
              "<table border=\"1\" class=\"dataframe\">\n",
              "  <thead>\n",
              "    <tr style=\"text-align: right;\">\n",
              "      <th></th>\n",
              "      <th>aa</th>\n",
              "      <th>aaa</th>\n",
              "      <th>aaboe</th>\n",
              "      <th>aadvantage</th>\n",
              "      <th>aaj</th>\n",
              "      <th>aakash</th>\n",
              "      <th>aand</th>\n",
              "      <th>abandon</th>\n",
              "      <th>abandoned</th>\n",
              "      <th>abandonment</th>\n",
              "      <th>...</th>\n",
              "      <th>太史公書</th>\n",
              "      <th>孫叔敖</th>\n",
              "      <th>文言</th>\n",
              "      <th>日本語</th>\n",
              "      <th>粵語</th>\n",
              "      <th>西門豹</th>\n",
              "      <th>贛語</th>\n",
              "      <th>ꮳꮃꭹ</th>\n",
              "      <th>한국어</th>\n",
              "      <th>ﬁrst</th>\n",
              "    </tr>\n",
              "  </thead>\n",
              "  <tbody>\n",
              "    <tr>\n",
              "      <th>horizon_article</th>\n",
              "      <td>0</td>\n",
              "      <td>1</td>\n",
              "      <td>0</td>\n",
              "      <td>0</td>\n",
              "      <td>0</td>\n",
              "      <td>0</td>\n",
              "      <td>0</td>\n",
              "      <td>1</td>\n",
              "      <td>0</td>\n",
              "      <td>0</td>\n",
              "      <td>...</td>\n",
              "      <td>0</td>\n",
              "      <td>0</td>\n",
              "      <td>0</td>\n",
              "      <td>0</td>\n",
              "      <td>0</td>\n",
              "      <td>0</td>\n",
              "      <td>0</td>\n",
              "      <td>0</td>\n",
              "      <td>0</td>\n",
              "      <td>0</td>\n",
              "    </tr>\n",
              "    <tr>\n",
              "      <th>sport_article</th>\n",
              "      <td>0</td>\n",
              "      <td>0</td>\n",
              "      <td>0</td>\n",
              "      <td>0</td>\n",
              "      <td>0</td>\n",
              "      <td>1</td>\n",
              "      <td>1</td>\n",
              "      <td>0</td>\n",
              "      <td>0</td>\n",
              "      <td>0</td>\n",
              "      <td>...</td>\n",
              "      <td>0</td>\n",
              "      <td>0</td>\n",
              "      <td>0</td>\n",
              "      <td>0</td>\n",
              "      <td>0</td>\n",
              "      <td>0</td>\n",
              "      <td>0</td>\n",
              "      <td>0</td>\n",
              "      <td>0</td>\n",
              "      <td>0</td>\n",
              "    </tr>\n",
              "    <tr>\n",
              "      <th>science_article</th>\n",
              "      <td>0</td>\n",
              "      <td>0</td>\n",
              "      <td>1</td>\n",
              "      <td>0</td>\n",
              "      <td>0</td>\n",
              "      <td>0</td>\n",
              "      <td>0</td>\n",
              "      <td>0</td>\n",
              "      <td>0</td>\n",
              "      <td>0</td>\n",
              "      <td>...</td>\n",
              "      <td>1</td>\n",
              "      <td>2</td>\n",
              "      <td>2</td>\n",
              "      <td>2</td>\n",
              "      <td>2</td>\n",
              "      <td>1</td>\n",
              "      <td>2</td>\n",
              "      <td>2</td>\n",
              "      <td>2</td>\n",
              "      <td>1</td>\n",
              "    </tr>\n",
              "    <tr>\n",
              "      <th>news_words</th>\n",
              "      <td>0</td>\n",
              "      <td>0</td>\n",
              "      <td>0</td>\n",
              "      <td>0</td>\n",
              "      <td>1</td>\n",
              "      <td>0</td>\n",
              "      <td>0</td>\n",
              "      <td>1</td>\n",
              "      <td>0</td>\n",
              "      <td>0</td>\n",
              "      <td>...</td>\n",
              "      <td>0</td>\n",
              "      <td>0</td>\n",
              "      <td>0</td>\n",
              "      <td>0</td>\n",
              "      <td>0</td>\n",
              "      <td>0</td>\n",
              "      <td>0</td>\n",
              "      <td>0</td>\n",
              "      <td>0</td>\n",
              "      <td>0</td>\n",
              "    </tr>\n",
              "    <tr>\n",
              "      <th>science_words</th>\n",
              "      <td>0</td>\n",
              "      <td>0</td>\n",
              "      <td>0</td>\n",
              "      <td>0</td>\n",
              "      <td>0</td>\n",
              "      <td>0</td>\n",
              "      <td>0</td>\n",
              "      <td>0</td>\n",
              "      <td>0</td>\n",
              "      <td>0</td>\n",
              "      <td>...</td>\n",
              "      <td>0</td>\n",
              "      <td>0</td>\n",
              "      <td>0</td>\n",
              "      <td>0</td>\n",
              "      <td>0</td>\n",
              "      <td>0</td>\n",
              "      <td>0</td>\n",
              "      <td>0</td>\n",
              "      <td>0</td>\n",
              "      <td>0</td>\n",
              "    </tr>\n",
              "    <tr>\n",
              "      <th>shopping_words</th>\n",
              "      <td>1</td>\n",
              "      <td>0</td>\n",
              "      <td>0</td>\n",
              "      <td>1</td>\n",
              "      <td>0</td>\n",
              "      <td>0</td>\n",
              "      <td>0</td>\n",
              "      <td>1</td>\n",
              "      <td>0</td>\n",
              "      <td>1</td>\n",
              "      <td>...</td>\n",
              "      <td>0</td>\n",
              "      <td>0</td>\n",
              "      <td>0</td>\n",
              "      <td>0</td>\n",
              "      <td>0</td>\n",
              "      <td>0</td>\n",
              "      <td>0</td>\n",
              "      <td>0</td>\n",
              "      <td>0</td>\n",
              "      <td>0</td>\n",
              "    </tr>\n",
              "    <tr>\n",
              "      <th>sport_words</th>\n",
              "      <td>0</td>\n",
              "      <td>0</td>\n",
              "      <td>0</td>\n",
              "      <td>0</td>\n",
              "      <td>0</td>\n",
              "      <td>0</td>\n",
              "      <td>0</td>\n",
              "      <td>0</td>\n",
              "      <td>1</td>\n",
              "      <td>0</td>\n",
              "      <td>...</td>\n",
              "      <td>0</td>\n",
              "      <td>0</td>\n",
              "      <td>0</td>\n",
              "      <td>0</td>\n",
              "      <td>0</td>\n",
              "      <td>0</td>\n",
              "      <td>0</td>\n",
              "      <td>0</td>\n",
              "      <td>0</td>\n",
              "      <td>0</td>\n",
              "    </tr>\n",
              "  </tbody>\n",
              "</table>\n",
              "<p>7 rows × 13280 columns</p>\n",
              "</div>\n",
              "      <button class=\"colab-df-convert\" onclick=\"convertToInteractive('df-b4d6e3ca-7135-4b92-8887-3f5e2ed0c0c2')\"\n",
              "              title=\"Convert this dataframe to an interactive table.\"\n",
              "              style=\"display:none;\">\n",
              "        \n",
              "  <svg xmlns=\"http://www.w3.org/2000/svg\" height=\"24px\"viewBox=\"0 0 24 24\"\n",
              "       width=\"24px\">\n",
              "    <path d=\"M0 0h24v24H0V0z\" fill=\"none\"/>\n",
              "    <path d=\"M18.56 5.44l.94 2.06.94-2.06 2.06-.94-2.06-.94-.94-2.06-.94 2.06-2.06.94zm-11 1L8.5 8.5l.94-2.06 2.06-.94-2.06-.94L8.5 2.5l-.94 2.06-2.06.94zm10 10l.94 2.06.94-2.06 2.06-.94-2.06-.94-.94-2.06-.94 2.06-2.06.94z\"/><path d=\"M17.41 7.96l-1.37-1.37c-.4-.4-.92-.59-1.43-.59-.52 0-1.04.2-1.43.59L10.3 9.45l-7.72 7.72c-.78.78-.78 2.05 0 2.83L4 21.41c.39.39.9.59 1.41.59.51 0 1.02-.2 1.41-.59l7.78-7.78 2.81-2.81c.8-.78.8-2.07 0-2.86zM5.41 20L4 18.59l7.72-7.72 1.47 1.35L5.41 20z\"/>\n",
              "  </svg>\n",
              "      </button>\n",
              "      \n",
              "  <style>\n",
              "    .colab-df-container {\n",
              "      display:flex;\n",
              "      flex-wrap:wrap;\n",
              "      gap: 12px;\n",
              "    }\n",
              "\n",
              "    .colab-df-convert {\n",
              "      background-color: #E8F0FE;\n",
              "      border: none;\n",
              "      border-radius: 50%;\n",
              "      cursor: pointer;\n",
              "      display: none;\n",
              "      fill: #1967D2;\n",
              "      height: 32px;\n",
              "      padding: 0 0 0 0;\n",
              "      width: 32px;\n",
              "    }\n",
              "\n",
              "    .colab-df-convert:hover {\n",
              "      background-color: #E2EBFA;\n",
              "      box-shadow: 0px 1px 2px rgba(60, 64, 67, 0.3), 0px 1px 3px 1px rgba(60, 64, 67, 0.15);\n",
              "      fill: #174EA6;\n",
              "    }\n",
              "\n",
              "    [theme=dark] .colab-df-convert {\n",
              "      background-color: #3B4455;\n",
              "      fill: #D2E3FC;\n",
              "    }\n",
              "\n",
              "    [theme=dark] .colab-df-convert:hover {\n",
              "      background-color: #434B5C;\n",
              "      box-shadow: 0px 1px 3px 1px rgba(0, 0, 0, 0.15);\n",
              "      filter: drop-shadow(0px 1px 2px rgba(0, 0, 0, 0.3));\n",
              "      fill: #FFFFFF;\n",
              "    }\n",
              "  </style>\n",
              "\n",
              "      <script>\n",
              "        const buttonEl =\n",
              "          document.querySelector('#df-b4d6e3ca-7135-4b92-8887-3f5e2ed0c0c2 button.colab-df-convert');\n",
              "        buttonEl.style.display =\n",
              "          google.colab.kernel.accessAllowed ? 'block' : 'none';\n",
              "\n",
              "        async function convertToInteractive(key) {\n",
              "          const element = document.querySelector('#df-b4d6e3ca-7135-4b92-8887-3f5e2ed0c0c2');\n",
              "          const dataTable =\n",
              "            await google.colab.kernel.invokeFunction('convertToInteractive',\n",
              "                                                     [key], {});\n",
              "          if (!dataTable) return;\n",
              "\n",
              "          const docLinkHtml = 'Like what you see? Visit the ' +\n",
              "            '<a target=\"_blank\" href=https://colab.research.google.com/notebooks/data_table.ipynb>data table notebook</a>'\n",
              "            + ' to learn more about interactive tables.';\n",
              "          element.innerHTML = '';\n",
              "          dataTable['output_type'] = 'display_data';\n",
              "          await google.colab.output.renderOutput(dataTable, element);\n",
              "          const docLink = document.createElement('div');\n",
              "          docLink.innerHTML = docLinkHtml;\n",
              "          element.appendChild(docLink);\n",
              "        }\n",
              "      </script>\n",
              "    </div>\n",
              "  </div>\n",
              "  "
            ]
          },
          "metadata": {},
          "execution_count": 54
        }
      ]
    },
    {
      "cell_type": "markdown",
      "source": [
        "Тогда я решила попробовать представить свои сеты данных в виде векторов, где 1 обозначает, что данное слово присутствует в наборе (больше 1 если несколько раз), а 0 при его отсутствии"
      ],
      "metadata": {
        "id": "0aKTKKWGjH5e"
      }
    },
    {
      "cell_type": "code",
      "source": [
        "from sklearn.metrics.pairwise import cosine_similarity\n",
        "\n",
        "cosine_similarity_matrix = cosine_similarity(vector_matrix)\n",
        "create_dataframe(cosine_similarity_matrix,[\"horizon_article\",\"sport_article\",\"science_article\",\"news_words\",\"science_words\",\"shopping_words\",\"sport_words\"])"
      ],
      "metadata": {
        "colab": {
          "base_uri": "https://localhost:8080/",
          "height": 269
        },
        "id": "OWWZk9MWUUJI",
        "outputId": "a30407a6-695a-42f3-8aa4-723472325099"
      },
      "execution_count": 56,
      "outputs": [
        {
          "output_type": "execute_result",
          "data": {
            "text/plain": [
              "                 horizon_article  sport_article  science_article  news_words  \\\n",
              "horizon_article         1.000000       0.263151         0.205300    0.071757   \n",
              "sport_article           0.263151       1.000000         0.098645    0.078464   \n",
              "science_article         0.205300       0.098645         1.000000    0.104413   \n",
              "news_words              0.071757       0.078464         0.104413    1.000000   \n",
              "science_words           0.067608       0.077189         0.152270    0.195690   \n",
              "shopping_words          0.075520       0.077457         0.085043    0.285399   \n",
              "sport_words             0.077928       0.119270         0.103770    0.189575   \n",
              "\n",
              "                 science_words  shopping_words  sport_words  \n",
              "horizon_article       0.067608        0.075520     0.077928  \n",
              "sport_article         0.077189        0.077457     0.119270  \n",
              "science_article       0.152270        0.085043     0.103770  \n",
              "news_words            0.195690        0.285399     0.189575  \n",
              "science_words         1.000000        0.243459     0.274859  \n",
              "shopping_words        0.243459        1.000000     0.345189  \n",
              "sport_words           0.274859        0.345189     1.000000  "
            ],
            "text/html": [
              "\n",
              "  <div id=\"df-45eb7bdf-a55f-4905-98e7-fdf85cd7330f\">\n",
              "    <div class=\"colab-df-container\">\n",
              "      <div>\n",
              "<style scoped>\n",
              "    .dataframe tbody tr th:only-of-type {\n",
              "        vertical-align: middle;\n",
              "    }\n",
              "\n",
              "    .dataframe tbody tr th {\n",
              "        vertical-align: top;\n",
              "    }\n",
              "\n",
              "    .dataframe thead th {\n",
              "        text-align: right;\n",
              "    }\n",
              "</style>\n",
              "<table border=\"1\" class=\"dataframe\">\n",
              "  <thead>\n",
              "    <tr style=\"text-align: right;\">\n",
              "      <th></th>\n",
              "      <th>horizon_article</th>\n",
              "      <th>sport_article</th>\n",
              "      <th>science_article</th>\n",
              "      <th>news_words</th>\n",
              "      <th>science_words</th>\n",
              "      <th>shopping_words</th>\n",
              "      <th>sport_words</th>\n",
              "    </tr>\n",
              "  </thead>\n",
              "  <tbody>\n",
              "    <tr>\n",
              "      <th>horizon_article</th>\n",
              "      <td>1.000000</td>\n",
              "      <td>0.263151</td>\n",
              "      <td>0.205300</td>\n",
              "      <td>0.071757</td>\n",
              "      <td>0.067608</td>\n",
              "      <td>0.075520</td>\n",
              "      <td>0.077928</td>\n",
              "    </tr>\n",
              "    <tr>\n",
              "      <th>sport_article</th>\n",
              "      <td>0.263151</td>\n",
              "      <td>1.000000</td>\n",
              "      <td>0.098645</td>\n",
              "      <td>0.078464</td>\n",
              "      <td>0.077189</td>\n",
              "      <td>0.077457</td>\n",
              "      <td>0.119270</td>\n",
              "    </tr>\n",
              "    <tr>\n",
              "      <th>science_article</th>\n",
              "      <td>0.205300</td>\n",
              "      <td>0.098645</td>\n",
              "      <td>1.000000</td>\n",
              "      <td>0.104413</td>\n",
              "      <td>0.152270</td>\n",
              "      <td>0.085043</td>\n",
              "      <td>0.103770</td>\n",
              "    </tr>\n",
              "    <tr>\n",
              "      <th>news_words</th>\n",
              "      <td>0.071757</td>\n",
              "      <td>0.078464</td>\n",
              "      <td>0.104413</td>\n",
              "      <td>1.000000</td>\n",
              "      <td>0.195690</td>\n",
              "      <td>0.285399</td>\n",
              "      <td>0.189575</td>\n",
              "    </tr>\n",
              "    <tr>\n",
              "      <th>science_words</th>\n",
              "      <td>0.067608</td>\n",
              "      <td>0.077189</td>\n",
              "      <td>0.152270</td>\n",
              "      <td>0.195690</td>\n",
              "      <td>1.000000</td>\n",
              "      <td>0.243459</td>\n",
              "      <td>0.274859</td>\n",
              "    </tr>\n",
              "    <tr>\n",
              "      <th>shopping_words</th>\n",
              "      <td>0.075520</td>\n",
              "      <td>0.077457</td>\n",
              "      <td>0.085043</td>\n",
              "      <td>0.285399</td>\n",
              "      <td>0.243459</td>\n",
              "      <td>1.000000</td>\n",
              "      <td>0.345189</td>\n",
              "    </tr>\n",
              "    <tr>\n",
              "      <th>sport_words</th>\n",
              "      <td>0.077928</td>\n",
              "      <td>0.119270</td>\n",
              "      <td>0.103770</td>\n",
              "      <td>0.189575</td>\n",
              "      <td>0.274859</td>\n",
              "      <td>0.345189</td>\n",
              "      <td>1.000000</td>\n",
              "    </tr>\n",
              "  </tbody>\n",
              "</table>\n",
              "</div>\n",
              "      <button class=\"colab-df-convert\" onclick=\"convertToInteractive('df-45eb7bdf-a55f-4905-98e7-fdf85cd7330f')\"\n",
              "              title=\"Convert this dataframe to an interactive table.\"\n",
              "              style=\"display:none;\">\n",
              "        \n",
              "  <svg xmlns=\"http://www.w3.org/2000/svg\" height=\"24px\"viewBox=\"0 0 24 24\"\n",
              "       width=\"24px\">\n",
              "    <path d=\"M0 0h24v24H0V0z\" fill=\"none\"/>\n",
              "    <path d=\"M18.56 5.44l.94 2.06.94-2.06 2.06-.94-2.06-.94-.94-2.06-.94 2.06-2.06.94zm-11 1L8.5 8.5l.94-2.06 2.06-.94-2.06-.94L8.5 2.5l-.94 2.06-2.06.94zm10 10l.94 2.06.94-2.06 2.06-.94-2.06-.94-.94-2.06-.94 2.06-2.06.94z\"/><path d=\"M17.41 7.96l-1.37-1.37c-.4-.4-.92-.59-1.43-.59-.52 0-1.04.2-1.43.59L10.3 9.45l-7.72 7.72c-.78.78-.78 2.05 0 2.83L4 21.41c.39.39.9.59 1.41.59.51 0 1.02-.2 1.41-.59l7.78-7.78 2.81-2.81c.8-.78.8-2.07 0-2.86zM5.41 20L4 18.59l7.72-7.72 1.47 1.35L5.41 20z\"/>\n",
              "  </svg>\n",
              "      </button>\n",
              "      \n",
              "  <style>\n",
              "    .colab-df-container {\n",
              "      display:flex;\n",
              "      flex-wrap:wrap;\n",
              "      gap: 12px;\n",
              "    }\n",
              "\n",
              "    .colab-df-convert {\n",
              "      background-color: #E8F0FE;\n",
              "      border: none;\n",
              "      border-radius: 50%;\n",
              "      cursor: pointer;\n",
              "      display: none;\n",
              "      fill: #1967D2;\n",
              "      height: 32px;\n",
              "      padding: 0 0 0 0;\n",
              "      width: 32px;\n",
              "    }\n",
              "\n",
              "    .colab-df-convert:hover {\n",
              "      background-color: #E2EBFA;\n",
              "      box-shadow: 0px 1px 2px rgba(60, 64, 67, 0.3), 0px 1px 3px 1px rgba(60, 64, 67, 0.15);\n",
              "      fill: #174EA6;\n",
              "    }\n",
              "\n",
              "    [theme=dark] .colab-df-convert {\n",
              "      background-color: #3B4455;\n",
              "      fill: #D2E3FC;\n",
              "    }\n",
              "\n",
              "    [theme=dark] .colab-df-convert:hover {\n",
              "      background-color: #434B5C;\n",
              "      box-shadow: 0px 1px 3px 1px rgba(0, 0, 0, 0.15);\n",
              "      filter: drop-shadow(0px 1px 2px rgba(0, 0, 0, 0.3));\n",
              "      fill: #FFFFFF;\n",
              "    }\n",
              "  </style>\n",
              "\n",
              "      <script>\n",
              "        const buttonEl =\n",
              "          document.querySelector('#df-45eb7bdf-a55f-4905-98e7-fdf85cd7330f button.colab-df-convert');\n",
              "        buttonEl.style.display =\n",
              "          google.colab.kernel.accessAllowed ? 'block' : 'none';\n",
              "\n",
              "        async function convertToInteractive(key) {\n",
              "          const element = document.querySelector('#df-45eb7bdf-a55f-4905-98e7-fdf85cd7330f');\n",
              "          const dataTable =\n",
              "            await google.colab.kernel.invokeFunction('convertToInteractive',\n",
              "                                                     [key], {});\n",
              "          if (!dataTable) return;\n",
              "\n",
              "          const docLinkHtml = 'Like what you see? Visit the ' +\n",
              "            '<a target=\"_blank\" href=https://colab.research.google.com/notebooks/data_table.ipynb>data table notebook</a>'\n",
              "            + ' to learn more about interactive tables.';\n",
              "          element.innerHTML = '';\n",
              "          dataTable['output_type'] = 'display_data';\n",
              "          await google.colab.output.renderOutput(dataTable, element);\n",
              "          const docLink = document.createElement('div');\n",
              "          docLink.innerHTML = docLinkHtml;\n",
              "          element.appendChild(docLink);\n",
              "        }\n",
              "      </script>\n",
              "    </div>\n",
              "  </div>\n",
              "  "
            ]
          },
          "metadata": {},
          "execution_count": 56
        }
      ]
    },
    {
      "cell_type": "markdown",
      "source": [
        "Метрики **косинуса** дали результаты, которые представлены выше. В целом также как и для коэф жаккара **для статьи обзора игры** дистанция до тематикb **спорт** оказалось наименьшим и примерно равным 0,92 , однако следующей по близости идет категория **шоппинг**, а не новости\n",
        "\n",
        "Для статьи про спорт результаты оказались **более показательными**, так как разница в схожести между спортом и остальными категориями увеличилась: \n",
        "**для спорта расстояние примерно 0,88** \n",
        "\n",
        "Вики статья же показывает наибольшие средние результаты из-за своего размера. Наиближайшей темой верно оказывается **наука 0,848**, далее идут категории **новости и спорт** с примерным расстоянием **0,89**"
      ],
      "metadata": {
        "id": "cHG6Lij_jp-_"
      }
    },
    {
      "cell_type": "code",
      "source": [
        "def jaccard_vector_fun(x, y,topic):\n",
        "    intersect = 0\n",
        "    union = 0\n",
        "    for i,val in enumerate(x):\n",
        "      if x[i]&y[i]!=0:\n",
        "        intersect +=1\n",
        "      if x[i]|y[i]!=0:\n",
        "        union +=1\n",
        "    res = intersect / union\n",
        "    print('Topic: ',topic,', Shared: ',intersect,', Total: ',union,', Similarity: ',res,', Distance: ',1-res)"
      ],
      "metadata": {
        "id": "o2QRmPBvVHjy"
      },
      "execution_count": 57,
      "outputs": []
    },
    {
      "cell_type": "code",
      "source": [
        "jaccard_vector_fun(vector_matrix_array[0] ,vector_matrix_array[3],'News')\n",
        "jaccard_vector_fun(vector_matrix_array[0] ,vector_matrix_array[4],'Science')\n",
        "jaccard_vector_fun(vector_matrix_array[0],vector_matrix_array[5],'Shopping')\n",
        "jaccard_vector_fun(vector_matrix_array[0],vector_matrix_array[6],'Sport')"
      ],
      "metadata": {
        "colab": {
          "base_uri": "https://localhost:8080/"
        },
        "id": "BI1Vd2q_WYzU",
        "outputId": "cd739847-162d-4d13-a8ea-b86c8802794f"
      },
      "execution_count": 58,
      "outputs": [
        {
          "output_type": "stream",
          "name": "stdout",
          "text": [
            "Topic:  News , Shared:  90 , Total:  3231 , Similarity:  0.027855153203342618 , Distance:  0.9721448467966574\n",
            "Topic:  Science , Shared:  96 , Total:  4109 , Similarity:  0.023363348746653686 , Distance:  0.9766366512533463\n",
            "Topic:  Shopping , Shared:  113 , Total:  4128 , Similarity:  0.027374031007751938 , Distance:  0.9726259689922481\n",
            "Topic:  Sport , Shared:  109 , Total:  3841 , Similarity:  0.028378026555584482 , Distance:  0.9716219734444155\n"
          ]
        }
      ]
    },
    {
      "cell_type": "code",
      "source": [
        "jaccard_vector_fun(vector_matrix_array[1] ,vector_matrix_array[3],'News')\n",
        "jaccard_vector_fun(vector_matrix_array[1] ,vector_matrix_array[4],'Science')\n",
        "jaccard_vector_fun(vector_matrix_array[1],vector_matrix_array[5],'Shopping')\n",
        "jaccard_vector_fun(vector_matrix_array[1],vector_matrix_array[6],'Sport')"
      ],
      "metadata": {
        "colab": {
          "base_uri": "https://localhost:8080/"
        },
        "id": "HZY31utjbMjG",
        "outputId": "ea2d6fd6-f290-43dc-e365-d37f56742abd"
      },
      "execution_count": 59,
      "outputs": [
        {
          "output_type": "stream",
          "name": "stdout",
          "text": [
            "Topic:  News , Shared:  244 , Total:  4578 , Similarity:  0.05329838357361293 , Distance:  0.9467016164263871\n",
            "Topic:  Science , Shared:  264 , Total:  5431 , Similarity:  0.048609832443380595 , Distance:  0.9513901675566194\n",
            "Topic:  Shopping , Shared:  291 , Total:  5430 , Similarity:  0.05359116022099448 , Distance:  0.9464088397790055\n",
            "Topic:  Sport , Shared:  357 , Total:  5056 , Similarity:  0.07060917721518987 , Distance:  0.9293908227848101\n"
          ]
        }
      ]
    },
    {
      "cell_type": "code",
      "source": [
        "jaccard_vector_fun(vector_matrix_array[2] ,vector_matrix_array[3],'News')\n",
        "jaccard_vector_fun(vector_matrix_array[2] ,vector_matrix_array[4],'Science')\n",
        "jaccard_vector_fun(vector_matrix_array[2],vector_matrix_array[5],'Shopping')\n",
        "jaccard_vector_fun(vector_matrix_array[2],vector_matrix_array[6],'Sport')"
      ],
      "metadata": {
        "colab": {
          "base_uri": "https://localhost:8080/"
        },
        "id": "PWbD1Yass8Cj",
        "outputId": "8c54d1b9-5ebc-44c7-e379-b5e20836cd13"
      },
      "execution_count": 60,
      "outputs": [
        {
          "output_type": "stream",
          "name": "stdout",
          "text": [
            "Topic:  News , Shared:  341 , Total:  6123 , Similarity:  0.05569165441776907 , Distance:  0.944308345582231\n",
            "Topic:  Science , Shared:  604 , Total:  6534 , Similarity:  0.09243954698500154 , Distance:  0.9075604530149984\n",
            "Topic:  Shopping , Shared:  350 , Total:  7005 , Similarity:  0.049964311206281226 , Distance:  0.9500356887937188\n",
            "Topic:  Sport , Shared:  356 , Total:  6747 , Similarity:  0.05276419149251519 , Distance:  0.9472358085074848\n"
          ]
        }
      ]
    },
    {
      "cell_type": "markdown",
      "source": [
        "Выше я проверила, будет ли более эффективным применение **коэф жаккара** для **векторов**, но результаты не сильно изменились"
      ],
      "metadata": {
        "id": "NxX-SZ99lJzf"
      }
    }
  ]
}