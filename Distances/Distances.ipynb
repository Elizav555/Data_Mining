{
  "nbformat": 4,
  "nbformat_minor": 0,
  "metadata": {
    "colab": {
      "name": "Distances.ipynb",
      "provenance": [],
      "collapsed_sections": [],
      "authorship_tag": "ABX9TyP/YBAsD06Dz+m1cUW9MWWg",
      "include_colab_link": true
    },
    "kernelspec": {
      "name": "python3",
      "display_name": "Python 3"
    },
    "language_info": {
      "name": "python"
    }
  },
  "cells": [
    {
      "cell_type": "markdown",
      "metadata": {
        "id": "view-in-github",
        "colab_type": "text"
      },
      "source": [
        "<a href=\"https://colab.research.google.com/github/Elizav555/Data_Mining/blob/main/Distances/Distances.ipynb\" target=\"_parent\"><img src=\"https://colab.research.google.com/assets/colab-badge.svg\" alt=\"Open In Colab\"/></a>"
      ]
    },
    {
      "cell_type": "markdown",
      "source": [
        "\n",
        "https://www.thegamer.com/horizon-forbidden-west-review-ps5/\n",
        "read://https_www.thegamer.com/?url=https%3A%2F%2Fwww.thegamer.com%2Fhorizon-forbidden-west-review-ps5%2F\n",
        "\n"
      ],
      "metadata": {
        "id": "MHawIn8m6iW5"
      }
    },
    {
      "cell_type": "code",
      "execution_count": 94,
      "metadata": {
        "colab": {
          "base_uri": "https://localhost:8080/"
        },
        "id": "Ht5P2QLn6ORL",
        "outputId": "a86bd04f-c9ce-411b-8d60-cf0f71deb69d"
      },
      "outputs": [
        {
          "output_type": "stream",
          "name": "stdout",
          "text": [
            "[nltk_data] Downloading package punkt to /root/nltk_data...\n",
            "[nltk_data]   Package punkt is already up-to-date!\n",
            "[nltk_data] Downloading package stopwords to /root/nltk_data...\n",
            "[nltk_data]   Package stopwords is already up-to-date!\n"
          ]
        },
        {
          "output_type": "execute_result",
          "data": {
            "text/plain": [
              "True"
            ]
          },
          "metadata": {},
          "execution_count": 94
        }
      ],
      "source": [
        "import nltk\n",
        "import requests\n",
        "import string\n",
        "from sklearn.feature_extraction.text import CountVectorizer\n",
        "import pandas as pd\n",
        "import numpy as np\n",
        "from bs4 import BeautifulSoup\n",
        "from nltk.tokenize import word_tokenize\n",
        "from nltk.corpus import stopwords\n",
        "nltk.download('punkt')\n",
        "nltk.download('stopwords')"
      ]
    },
    {
      "cell_type": "code",
      "source": [
        "url = 'https://www.thegamer.com/horizon-forbidden-west-review-ps5/'\n",
        "headers = requests.utils.default_headers()\n",
        "headers.update(\n",
        "    {\n",
        "        'User-Agent': 'My User Agent 1.0',\n",
        "    }\n",
        ")\n",
        "response = requests.get(url, headers=headers)\n",
        "soup = BeautifulSoup(response.text)\n",
        "root = soup.body\n",
        "root_childs = [e.name for e in root.descendants if e.name is not None]\n",
        "#print(set(root_childs))"
      ],
      "metadata": {
        "id": "l_3lwDDc60J6"
      },
      "execution_count": 95,
      "outputs": []
    },
    {
      "cell_type": "code",
      "source": [
        "textTags = soup.find_all(['p','h1','h2','h3','h4','label','a','ul','span','li','button'])\n",
        "whole_text = ' '.join(map(lambda it: it.text, textTags)) \n",
        "all_words = word_tokenize(whole_text)\n",
        "#print(all_words)\n",
        "print('Number of all words: ',len(all_words))"
      ],
      "metadata": {
        "colab": {
          "base_uri": "https://localhost:8080/"
        },
        "id": "x1KDYqCpDGKD",
        "outputId": "539e7428-8ef4-40e3-bb08-aa7fc32344b5"
      },
      "execution_count": 96,
      "outputs": [
        {
          "output_type": "stream",
          "name": "stdout",
          "text": [
            "Number of all words:  2712\n"
          ]
        }
      ]
    },
    {
      "cell_type": "code",
      "source": [
        "def process_whole_text(all_words_set):\n",
        "  symb_to_remove = stopwords.words('english') +  list(string.punctuation) +  list(string.digits) + list('’')\n",
        "  text_cleared = [word for word in all_words_set if word not in symb_to_remove]\n",
        "  text_cleared = [word for word in text_cleared if not word.isdigit()]\n",
        "  #text_cleared = set(text_cleared)\n",
        "  #print(text_cleared)\n",
        "  return text_cleared\n",
        "\n",
        "horizon_article = process_whole_text(all_words)\n",
        "print('Number of cleared words: ',len(horizon_article))"
      ],
      "metadata": {
        "colab": {
          "base_uri": "https://localhost:8080/"
        },
        "id": "Xze1moSeF_rj",
        "outputId": "a468e496-6d53-490a-eb38-e00fdabbfc22"
      },
      "execution_count": 97,
      "outputs": [
        {
          "output_type": "stream",
          "name": "stdout",
          "text": [
            "Number of cleared words:  1701\n"
          ]
        }
      ]
    },
    {
      "cell_type": "markdown",
      "source": [
        "https://keywordgenerator.net\n",
        "\n",
        "Сервис, откуда я взяла слова для топиков"
      ],
      "metadata": {
        "id": "IAtJrao7NN6u"
      }
    },
    {
      "cell_type": "code",
      "source": [
        "def process_key_words(file_name ):\n",
        "  dataset = pd.read_csv(file_name)\n",
        "  dataset = dataset['Keyword']\n",
        "  words = dataset.values.tolist()\n",
        "  words = list(map(lambda it: it.split(' ') ,words))\n",
        "  words_set = list()\n",
        "  for words in words:\n",
        "    words_set+=words\n",
        "  words_set = set(words_set)\n",
        "  words_set-=set(['']) \n",
        "  words_set = process_whole_text(words_set)\n",
        "  return set(words_set)"
      ],
      "metadata": {
        "id": "oIpYanwdQDWZ"
      },
      "execution_count": 98,
      "outputs": []
    },
    {
      "cell_type": "code",
      "source": [
        "news_words = process_key_words('news.csv')\n",
        "science_words = process_key_words('science.csv')\n",
        "shopping_words = process_key_words('shopping.csv')\n",
        "sport_words = process_key_words('sport.csv')\n",
        "# print('News: ',news_words,'\\n', len(news_words))\n",
        "# print('Science: ',science_words,'\\n', len(science_words))\n",
        "# print('Shopping: ',shopping_words,'\\n', len(shopping_words))\n",
        "# print('Sport: ',sport_words,'\\n', len(sport_words))\n",
        "print('News: ', len(news_words))\n",
        "print('Science: ', len(science_words))\n",
        "print('Shopping: ', len(shopping_words))\n",
        "print('Sport: ', len(sport_words))"
      ],
      "metadata": {
        "colab": {
          "base_uri": "https://localhost:8080/"
        },
        "id": "DdoRe6mGVwvs",
        "outputId": "74275636-cdb0-4445-edd8-aa483dccdedd"
      },
      "execution_count": 99,
      "outputs": [
        {
          "output_type": "stream",
          "name": "stdout",
          "text": [
            "News:  756\n",
            "Science:  873\n",
            "Shopping:  829\n",
            "Sport:  723\n"
          ]
        }
      ]
    },
    {
      "cell_type": "code",
      "source": [
        "def parse_from_dictionary(url):\n",
        "  response_dictionary = requests.get(url)\n",
        "  soup_dictionary = BeautifulSoup(response_dictionary.text)\n",
        "  textTags_dictionary = soup_dictionary.find_all('a',class_='btnpopover')\n",
        "  whole_text_dictionary = ' '.join(map(lambda it: it.text, textTags_dictionary)) \n",
        "  all_words_dictionary = word_tokenize(whole_text_dictionary)\n",
        "  all_words_dictionary = process_whole_text(all_words_dictionary)\n",
        "  return(set(all_words_dictionary))\n"
      ],
      "metadata": {
        "id": "BftVXZaAaGHv"
      },
      "execution_count": 100,
      "outputs": []
    },
    {
      "cell_type": "markdown",
      "source": [
        "https://www.niftyword.com/related-words/science/ связанные слова"
      ],
      "metadata": {
        "id": "VhpZxc--gPWF"
      }
    },
    {
      "cell_type": "code",
      "source": [
        "news_words = news_words.union(parse_from_dictionary('https://www.niftyword.com/related-words/news/'))\n",
        "science_words = science_words.union(parse_from_dictionary('https://www.niftyword.com/related-words/science/'))\n",
        "shopping_words= shopping_words.union(parse_from_dictionary('https://www.niftyword.com/related-words/shopping/'))\n",
        "sport_words =sport_words.union(parse_from_dictionary('https://www.niftyword.com/related-words/sport/'))\n",
        "# print('News: ',news_words,'\\n', len(news_words))\n",
        "# print('Science: ',science_words,'\\n', len(science_words))\n",
        "# print('Shopping: ',shopping_words,'\\n', len(shopping_words))\n",
        "# print('Sport: ',sport_words,'\\n', len(sport_words))\n",
        "print('News: ', len(news_words))\n",
        "print('Science: ', len(science_words))\n",
        "print('Shopping: ', len(shopping_words))\n",
        "print('Sport: ', len(sport_words))"
      ],
      "metadata": {
        "colab": {
          "base_uri": "https://localhost:8080/"
        },
        "id": "BOVWbjNLfZA2",
        "outputId": "f01399cf-36e6-4307-e45e-763e4c322e1b"
      },
      "execution_count": 102,
      "outputs": [
        {
          "output_type": "stream",
          "name": "stdout",
          "text": [
            "News:  2558\n",
            "Science:  3477\n",
            "Shopping:  3498\n",
            "Sport:  3133\n"
          ]
        }
      ]
    },
    {
      "cell_type": "code",
      "source": [
        "def jaccard_fun(a,b,topic):\n",
        "  a= set(a)\n",
        "  b=set(b)\n",
        "  shared = a.intersection(b)\n",
        "  total = a.union(b)\n",
        "  res = len(shared) / len(total)\n",
        "  print('Topic: ',topic,', Shared: ',len(shared),', Total: ',len(total),', Similarity: ',res,', Distance: ',1-res)"
      ],
      "metadata": {
        "id": "eL36arf_jMZx"
      },
      "execution_count": 103,
      "outputs": []
    },
    {
      "cell_type": "code",
      "source": [
        "jaccard_fun(horizon_article ,news_words,'News')\n",
        "jaccard_fun(horizon_article ,science_words,'Science')\n",
        "jaccard_fun(horizon_article ,shopping_words,'Shopping')\n",
        "jaccard_fun(horizon_article ,sport_words,'Sport')"
      ],
      "metadata": {
        "colab": {
          "base_uri": "https://localhost:8080/"
        },
        "id": "HC91NrRTkCXh",
        "outputId": "8ba5cddf-d1d9-4a35-acdf-3fb577d35879"
      },
      "execution_count": 104,
      "outputs": [
        {
          "output_type": "stream",
          "name": "stdout",
          "text": [
            "Topic:  News , Shared:  92 , Total:  3213 , Similarity:  0.028633675692499222 , Distance:  0.9713663243075008\n",
            "Topic:  Science , Shared:  115 , Total:  4109 , Similarity:  0.02798734485276223 , Distance:  0.9720126551472378\n",
            "Topic:  Shopping , Shared:  119 , Total:  4126 , Similarity:  0.028841492971400873 , Distance:  0.9711585070285991\n",
            "Topic:  Sport , Shared:  120 , Total:  3760 , Similarity:  0.031914893617021274 , Distance:  0.9680851063829787\n"
          ]
        }
      ]
    },
    {
      "cell_type": "markdown",
      "source": [
        "https://www.topendsports.com/world/lists/popular-sport/"
      ],
      "metadata": {
        "id": "KbBjXNjUpNez"
      }
    },
    {
      "cell_type": "code",
      "source": [
        "response_dictionary = requests.get('https://www.topendsports.com/world/lists/popular-sport/')\n",
        "soup_dictionary = BeautifulSoup(response_dictionary.text)\n",
        "textTags_dictionary = soup_dictionary.find_all(['p','h1','li','a'])\n",
        "whole_text_dictionary = ' '.join(map(lambda it: it.text, textTags_dictionary)) \n",
        "all_words_dictionary = word_tokenize(whole_text_dictionary)\n",
        "#print(all_words_dictionary)\n",
        "print('Number of all words: ',len(all_words_dictionary))"
      ],
      "metadata": {
        "colab": {
          "base_uri": "https://localhost:8080/"
        },
        "id": "dVIeoMuWodWT",
        "outputId": "be643c70-d119-4bd5-ed08-e172e893a70c"
      },
      "execution_count": 105,
      "outputs": [
        {
          "output_type": "stream",
          "name": "stdout",
          "text": [
            "Number of all words:  16194\n"
          ]
        }
      ]
    },
    {
      "cell_type": "code",
      "source": [
        "sport_article = process_whole_text(all_words_dictionary)\n",
        "#print(sport_article)\n",
        "print('Number of cleared words: ',len(sport_article))"
      ],
      "metadata": {
        "colab": {
          "base_uri": "https://localhost:8080/"
        },
        "id": "RQXl2TnfpxtQ",
        "outputId": "39f7c85b-918b-426f-84c0-ac755aba70c3"
      },
      "execution_count": 106,
      "outputs": [
        {
          "output_type": "stream",
          "name": "stdout",
          "text": [
            "Number of cleared words:  8502\n"
          ]
        }
      ]
    },
    {
      "cell_type": "code",
      "source": [
        "jaccard_fun(sport_article ,news_words,'News')\n",
        "jaccard_fun(sport_article ,science_words,'Science')\n",
        "jaccard_fun(sport_article ,shopping_words,'Shopping')\n",
        "jaccard_fun(sport_article ,sport_words,'Sport')"
      ],
      "metadata": {
        "colab": {
          "base_uri": "https://localhost:8080/"
        },
        "id": "Lhfd_GRAp-OK",
        "outputId": "f7e2dd30-03cd-42d4-89e3-293081c4d9e8"
      },
      "execution_count": 107,
      "outputs": [
        {
          "output_type": "stream",
          "name": "stdout",
          "text": [
            "Topic:  News , Shared:  326 , Total:  5124 , Similarity:  0.06362217017954723 , Distance:  0.9363778298204528\n",
            "Topic:  Science , Shared:  386 , Total:  5983 , Similarity:  0.06451612903225806 , Distance:  0.935483870967742\n",
            "Topic:  Shopping , Shared:  412 , Total:  5978 , Similarity:  0.06891937102709936 , Distance:  0.9310806289729007\n",
            "Topic:  Sport , Shared:  480 , Total:  5545 , Similarity:  0.08656447249774572 , Distance:  0.9134355275022543\n"
          ]
        }
      ]
    },
    {
      "cell_type": "code",
      "source": [
        "data = [\" \".join(horizon_article), \" \".join(sport_article),\" \".join(news_words),\" \".join(science_words),\" \".join(shopping_words),\" \".join(sport_words)]\n",
        "count_vectorizer = CountVectorizer()\n",
        "vector_matrix = count_vectorizer.fit_transform(data)\n",
        "tokens = count_vectorizer.get_feature_names_out()\n",
        "tokens"
      ],
      "metadata": {
        "id": "EjI6sbWl89pX",
        "colab": {
          "base_uri": "https://localhost:8080/"
        },
        "outputId": "6fd6dae2-c097-465a-a776-2485752edf37"
      },
      "execution_count": 108,
      "outputs": [
        {
          "output_type": "execute_result",
          "data": {
            "text/plain": [
              "array(['000', '0nline', '10', ..., 'zurich', 'zymology', 'zymurgy'],\n",
              "      dtype=object)"
            ]
          },
          "metadata": {},
          "execution_count": 108
        }
      ]
    },
    {
      "cell_type": "code",
      "source": [
        "vector_matrix_array = vector_matrix.toarray()\n",
        "vector_matrix_array"
      ],
      "metadata": {
        "id": "dcKAELIkxwfs",
        "colab": {
          "base_uri": "https://localhost:8080/"
        },
        "outputId": "9cc71cf3-1fb7-445f-9cf7-36d848130590"
      },
      "execution_count": 109,
      "outputs": [
        {
          "output_type": "execute_result",
          "data": {
            "text/plain": [
              "array([[0, 0, 0, ..., 0, 0, 0],\n",
              "       [3, 0, 2, ..., 0, 0, 0],\n",
              "       [0, 0, 0, ..., 1, 0, 0],\n",
              "       [0, 0, 1, ..., 0, 1, 1],\n",
              "       [0, 1, 0, ..., 0, 0, 0],\n",
              "       [0, 0, 0, ..., 0, 0, 0]])"
            ]
          },
          "metadata": {},
          "execution_count": 109
        }
      ]
    },
    {
      "cell_type": "code",
      "source": [
        "def create_dataframe(matrix, tokens):\n",
        "    doc_names = [\"horizon_article\",\"sport_article\",\"news_words\",\"science_words\",\"shopping_words\",\"sport_words\"]\n",
        "    df = pd.DataFrame(data=matrix, index=doc_names, columns=tokens)\n",
        "    return(df)\n",
        "\n",
        "dataframe = create_dataframe(vector_matrix_array,tokens)\n",
        "dataframe"
      ],
      "metadata": {
        "colab": {
          "base_uri": "https://localhost:8080/",
          "height": 331
        },
        "id": "7mGrCwquTHLV",
        "outputId": "7278eb6a-f56c-46af-9833-aaec1e7272e3"
      },
      "execution_count": 110,
      "outputs": [
        {
          "output_type": "execute_result",
          "data": {
            "text/plain": [
              "                 000  0nline  10  100  10th  11  11players  12  12th  145  \\\n",
              "horizon_article    0       0   0    0     0   0          0   0     0    0   \n",
              "sport_article      3       0   2    2     0   0          2   0     0    1   \n",
              "news_words         0       0   0    0     0   0          0   0     0    0   \n",
              "science_words      0       0   1    0     1   1          0   2     1    0   \n",
              "shopping_words     0       1   0    0     0   2          0   0     0    0   \n",
              "sport_words        0       0   0    0     0   0          0   0     0    0   \n",
              "\n",
              "                 ...  zoological  zoologist  zoology  zoom  zourkhaneh  zp  \\\n",
              "horizon_article  ...           0          0        0     0           0   0   \n",
              "sport_article    ...           0          0        0     0           0   0   \n",
              "news_words       ...           0          0        0     0           0   1   \n",
              "science_words    ...           1          1        1     1           0   0   \n",
              "shopping_words   ...           0          0        0     0           0   0   \n",
              "sport_words      ...           1          0        1     0           1   0   \n",
              "\n",
              "                 zuoz  zurich  zymology  zymurgy  \n",
              "horizon_article     0       0         0        0  \n",
              "sport_article       0       0         0        0  \n",
              "news_words          0       1         0        0  \n",
              "science_words       0       0         1        1  \n",
              "shopping_words      0       0         0        0  \n",
              "sport_words         1       0         0        0  \n",
              "\n",
              "[6 rows x 10833 columns]"
            ],
            "text/html": [
              "\n",
              "  <div id=\"df-6c7caa9b-f5e9-43af-853e-40d44729628c\">\n",
              "    <div class=\"colab-df-container\">\n",
              "      <div>\n",
              "<style scoped>\n",
              "    .dataframe tbody tr th:only-of-type {\n",
              "        vertical-align: middle;\n",
              "    }\n",
              "\n",
              "    .dataframe tbody tr th {\n",
              "        vertical-align: top;\n",
              "    }\n",
              "\n",
              "    .dataframe thead th {\n",
              "        text-align: right;\n",
              "    }\n",
              "</style>\n",
              "<table border=\"1\" class=\"dataframe\">\n",
              "  <thead>\n",
              "    <tr style=\"text-align: right;\">\n",
              "      <th></th>\n",
              "      <th>000</th>\n",
              "      <th>0nline</th>\n",
              "      <th>10</th>\n",
              "      <th>100</th>\n",
              "      <th>10th</th>\n",
              "      <th>11</th>\n",
              "      <th>11players</th>\n",
              "      <th>12</th>\n",
              "      <th>12th</th>\n",
              "      <th>145</th>\n",
              "      <th>...</th>\n",
              "      <th>zoological</th>\n",
              "      <th>zoologist</th>\n",
              "      <th>zoology</th>\n",
              "      <th>zoom</th>\n",
              "      <th>zourkhaneh</th>\n",
              "      <th>zp</th>\n",
              "      <th>zuoz</th>\n",
              "      <th>zurich</th>\n",
              "      <th>zymology</th>\n",
              "      <th>zymurgy</th>\n",
              "    </tr>\n",
              "  </thead>\n",
              "  <tbody>\n",
              "    <tr>\n",
              "      <th>horizon_article</th>\n",
              "      <td>0</td>\n",
              "      <td>0</td>\n",
              "      <td>0</td>\n",
              "      <td>0</td>\n",
              "      <td>0</td>\n",
              "      <td>0</td>\n",
              "      <td>0</td>\n",
              "      <td>0</td>\n",
              "      <td>0</td>\n",
              "      <td>0</td>\n",
              "      <td>...</td>\n",
              "      <td>0</td>\n",
              "      <td>0</td>\n",
              "      <td>0</td>\n",
              "      <td>0</td>\n",
              "      <td>0</td>\n",
              "      <td>0</td>\n",
              "      <td>0</td>\n",
              "      <td>0</td>\n",
              "      <td>0</td>\n",
              "      <td>0</td>\n",
              "    </tr>\n",
              "    <tr>\n",
              "      <th>sport_article</th>\n",
              "      <td>3</td>\n",
              "      <td>0</td>\n",
              "      <td>2</td>\n",
              "      <td>2</td>\n",
              "      <td>0</td>\n",
              "      <td>0</td>\n",
              "      <td>2</td>\n",
              "      <td>0</td>\n",
              "      <td>0</td>\n",
              "      <td>1</td>\n",
              "      <td>...</td>\n",
              "      <td>0</td>\n",
              "      <td>0</td>\n",
              "      <td>0</td>\n",
              "      <td>0</td>\n",
              "      <td>0</td>\n",
              "      <td>0</td>\n",
              "      <td>0</td>\n",
              "      <td>0</td>\n",
              "      <td>0</td>\n",
              "      <td>0</td>\n",
              "    </tr>\n",
              "    <tr>\n",
              "      <th>news_words</th>\n",
              "      <td>0</td>\n",
              "      <td>0</td>\n",
              "      <td>0</td>\n",
              "      <td>0</td>\n",
              "      <td>0</td>\n",
              "      <td>0</td>\n",
              "      <td>0</td>\n",
              "      <td>0</td>\n",
              "      <td>0</td>\n",
              "      <td>0</td>\n",
              "      <td>...</td>\n",
              "      <td>0</td>\n",
              "      <td>0</td>\n",
              "      <td>0</td>\n",
              "      <td>0</td>\n",
              "      <td>0</td>\n",
              "      <td>1</td>\n",
              "      <td>0</td>\n",
              "      <td>1</td>\n",
              "      <td>0</td>\n",
              "      <td>0</td>\n",
              "    </tr>\n",
              "    <tr>\n",
              "      <th>science_words</th>\n",
              "      <td>0</td>\n",
              "      <td>0</td>\n",
              "      <td>1</td>\n",
              "      <td>0</td>\n",
              "      <td>1</td>\n",
              "      <td>1</td>\n",
              "      <td>0</td>\n",
              "      <td>2</td>\n",
              "      <td>1</td>\n",
              "      <td>0</td>\n",
              "      <td>...</td>\n",
              "      <td>1</td>\n",
              "      <td>1</td>\n",
              "      <td>1</td>\n",
              "      <td>1</td>\n",
              "      <td>0</td>\n",
              "      <td>0</td>\n",
              "      <td>0</td>\n",
              "      <td>0</td>\n",
              "      <td>1</td>\n",
              "      <td>1</td>\n",
              "    </tr>\n",
              "    <tr>\n",
              "      <th>shopping_words</th>\n",
              "      <td>0</td>\n",
              "      <td>1</td>\n",
              "      <td>0</td>\n",
              "      <td>0</td>\n",
              "      <td>0</td>\n",
              "      <td>2</td>\n",
              "      <td>0</td>\n",
              "      <td>0</td>\n",
              "      <td>0</td>\n",
              "      <td>0</td>\n",
              "      <td>...</td>\n",
              "      <td>0</td>\n",
              "      <td>0</td>\n",
              "      <td>0</td>\n",
              "      <td>0</td>\n",
              "      <td>0</td>\n",
              "      <td>0</td>\n",
              "      <td>0</td>\n",
              "      <td>0</td>\n",
              "      <td>0</td>\n",
              "      <td>0</td>\n",
              "    </tr>\n",
              "    <tr>\n",
              "      <th>sport_words</th>\n",
              "      <td>0</td>\n",
              "      <td>0</td>\n",
              "      <td>0</td>\n",
              "      <td>0</td>\n",
              "      <td>0</td>\n",
              "      <td>0</td>\n",
              "      <td>0</td>\n",
              "      <td>0</td>\n",
              "      <td>0</td>\n",
              "      <td>0</td>\n",
              "      <td>...</td>\n",
              "      <td>1</td>\n",
              "      <td>0</td>\n",
              "      <td>1</td>\n",
              "      <td>0</td>\n",
              "      <td>1</td>\n",
              "      <td>0</td>\n",
              "      <td>1</td>\n",
              "      <td>0</td>\n",
              "      <td>0</td>\n",
              "      <td>0</td>\n",
              "    </tr>\n",
              "  </tbody>\n",
              "</table>\n",
              "<p>6 rows × 10833 columns</p>\n",
              "</div>\n",
              "      <button class=\"colab-df-convert\" onclick=\"convertToInteractive('df-6c7caa9b-f5e9-43af-853e-40d44729628c')\"\n",
              "              title=\"Convert this dataframe to an interactive table.\"\n",
              "              style=\"display:none;\">\n",
              "        \n",
              "  <svg xmlns=\"http://www.w3.org/2000/svg\" height=\"24px\"viewBox=\"0 0 24 24\"\n",
              "       width=\"24px\">\n",
              "    <path d=\"M0 0h24v24H0V0z\" fill=\"none\"/>\n",
              "    <path d=\"M18.56 5.44l.94 2.06.94-2.06 2.06-.94-2.06-.94-.94-2.06-.94 2.06-2.06.94zm-11 1L8.5 8.5l.94-2.06 2.06-.94-2.06-.94L8.5 2.5l-.94 2.06-2.06.94zm10 10l.94 2.06.94-2.06 2.06-.94-2.06-.94-.94-2.06-.94 2.06-2.06.94z\"/><path d=\"M17.41 7.96l-1.37-1.37c-.4-.4-.92-.59-1.43-.59-.52 0-1.04.2-1.43.59L10.3 9.45l-7.72 7.72c-.78.78-.78 2.05 0 2.83L4 21.41c.39.39.9.59 1.41.59.51 0 1.02-.2 1.41-.59l7.78-7.78 2.81-2.81c.8-.78.8-2.07 0-2.86zM5.41 20L4 18.59l7.72-7.72 1.47 1.35L5.41 20z\"/>\n",
              "  </svg>\n",
              "      </button>\n",
              "      \n",
              "  <style>\n",
              "    .colab-df-container {\n",
              "      display:flex;\n",
              "      flex-wrap:wrap;\n",
              "      gap: 12px;\n",
              "    }\n",
              "\n",
              "    .colab-df-convert {\n",
              "      background-color: #E8F0FE;\n",
              "      border: none;\n",
              "      border-radius: 50%;\n",
              "      cursor: pointer;\n",
              "      display: none;\n",
              "      fill: #1967D2;\n",
              "      height: 32px;\n",
              "      padding: 0 0 0 0;\n",
              "      width: 32px;\n",
              "    }\n",
              "\n",
              "    .colab-df-convert:hover {\n",
              "      background-color: #E2EBFA;\n",
              "      box-shadow: 0px 1px 2px rgba(60, 64, 67, 0.3), 0px 1px 3px 1px rgba(60, 64, 67, 0.15);\n",
              "      fill: #174EA6;\n",
              "    }\n",
              "\n",
              "    [theme=dark] .colab-df-convert {\n",
              "      background-color: #3B4455;\n",
              "      fill: #D2E3FC;\n",
              "    }\n",
              "\n",
              "    [theme=dark] .colab-df-convert:hover {\n",
              "      background-color: #434B5C;\n",
              "      box-shadow: 0px 1px 3px 1px rgba(0, 0, 0, 0.15);\n",
              "      filter: drop-shadow(0px 1px 2px rgba(0, 0, 0, 0.3));\n",
              "      fill: #FFFFFF;\n",
              "    }\n",
              "  </style>\n",
              "\n",
              "      <script>\n",
              "        const buttonEl =\n",
              "          document.querySelector('#df-6c7caa9b-f5e9-43af-853e-40d44729628c button.colab-df-convert');\n",
              "        buttonEl.style.display =\n",
              "          google.colab.kernel.accessAllowed ? 'block' : 'none';\n",
              "\n",
              "        async function convertToInteractive(key) {\n",
              "          const element = document.querySelector('#df-6c7caa9b-f5e9-43af-853e-40d44729628c');\n",
              "          const dataTable =\n",
              "            await google.colab.kernel.invokeFunction('convertToInteractive',\n",
              "                                                     [key], {});\n",
              "          if (!dataTable) return;\n",
              "\n",
              "          const docLinkHtml = 'Like what you see? Visit the ' +\n",
              "            '<a target=\"_blank\" href=https://colab.research.google.com/notebooks/data_table.ipynb>data table notebook</a>'\n",
              "            + ' to learn more about interactive tables.';\n",
              "          element.innerHTML = '';\n",
              "          dataTable['output_type'] = 'display_data';\n",
              "          await google.colab.output.renderOutput(dataTable, element);\n",
              "          const docLink = document.createElement('div');\n",
              "          docLink.innerHTML = docLinkHtml;\n",
              "          element.appendChild(docLink);\n",
              "        }\n",
              "      </script>\n",
              "    </div>\n",
              "  </div>\n",
              "  "
            ]
          },
          "metadata": {},
          "execution_count": 110
        }
      ]
    },
    {
      "cell_type": "code",
      "source": [
        "from sklearn.metrics.pairwise import cosine_similarity\n",
        "\n",
        "cosine_similarity_matrix = cosine_similarity(vector_matrix)\n",
        "create_dataframe(cosine_similarity_matrix,[\"horizon_article\",\"sport_article\",\"news_words\",\"science_words\",\"shopping_words\",\"sport_words\"])"
      ],
      "metadata": {
        "colab": {
          "base_uri": "https://localhost:8080/",
          "height": 237
        },
        "id": "OWWZk9MWUUJI",
        "outputId": "8d85d0d7-5732-464b-a187-4495106e91a1"
      },
      "execution_count": 111,
      "outputs": [
        {
          "output_type": "execute_result",
          "data": {
            "text/plain": [
              "                 horizon_article  sport_article  news_words  science_words  \\\n",
              "horizon_article         1.000000       0.252811    0.082712       0.069287   \n",
              "sport_article           0.252811       1.000000    0.075952       0.073653   \n",
              "news_words              0.082712       0.075952    1.000000       0.188529   \n",
              "science_words           0.069287       0.073653    0.188529       1.000000   \n",
              "shopping_words          0.077076       0.074523    0.281104       0.239160   \n",
              "sport_words             0.078680       0.138580    0.185942       0.275769   \n",
              "\n",
              "                 shopping_words  sport_words  \n",
              "horizon_article        0.077076     0.078680  \n",
              "sport_article          0.074523     0.138580  \n",
              "news_words             0.281104     0.185942  \n",
              "science_words          0.239160     0.275769  \n",
              "shopping_words         1.000000     0.343177  \n",
              "sport_words            0.343177     1.000000  "
            ],
            "text/html": [
              "\n",
              "  <div id=\"df-1025beca-e0cd-4f70-82a8-9160507e1dfb\">\n",
              "    <div class=\"colab-df-container\">\n",
              "      <div>\n",
              "<style scoped>\n",
              "    .dataframe tbody tr th:only-of-type {\n",
              "        vertical-align: middle;\n",
              "    }\n",
              "\n",
              "    .dataframe tbody tr th {\n",
              "        vertical-align: top;\n",
              "    }\n",
              "\n",
              "    .dataframe thead th {\n",
              "        text-align: right;\n",
              "    }\n",
              "</style>\n",
              "<table border=\"1\" class=\"dataframe\">\n",
              "  <thead>\n",
              "    <tr style=\"text-align: right;\">\n",
              "      <th></th>\n",
              "      <th>horizon_article</th>\n",
              "      <th>sport_article</th>\n",
              "      <th>news_words</th>\n",
              "      <th>science_words</th>\n",
              "      <th>shopping_words</th>\n",
              "      <th>sport_words</th>\n",
              "    </tr>\n",
              "  </thead>\n",
              "  <tbody>\n",
              "    <tr>\n",
              "      <th>horizon_article</th>\n",
              "      <td>1.000000</td>\n",
              "      <td>0.252811</td>\n",
              "      <td>0.082712</td>\n",
              "      <td>0.069287</td>\n",
              "      <td>0.077076</td>\n",
              "      <td>0.078680</td>\n",
              "    </tr>\n",
              "    <tr>\n",
              "      <th>sport_article</th>\n",
              "      <td>0.252811</td>\n",
              "      <td>1.000000</td>\n",
              "      <td>0.075952</td>\n",
              "      <td>0.073653</td>\n",
              "      <td>0.074523</td>\n",
              "      <td>0.138580</td>\n",
              "    </tr>\n",
              "    <tr>\n",
              "      <th>news_words</th>\n",
              "      <td>0.082712</td>\n",
              "      <td>0.075952</td>\n",
              "      <td>1.000000</td>\n",
              "      <td>0.188529</td>\n",
              "      <td>0.281104</td>\n",
              "      <td>0.185942</td>\n",
              "    </tr>\n",
              "    <tr>\n",
              "      <th>science_words</th>\n",
              "      <td>0.069287</td>\n",
              "      <td>0.073653</td>\n",
              "      <td>0.188529</td>\n",
              "      <td>1.000000</td>\n",
              "      <td>0.239160</td>\n",
              "      <td>0.275769</td>\n",
              "    </tr>\n",
              "    <tr>\n",
              "      <th>shopping_words</th>\n",
              "      <td>0.077076</td>\n",
              "      <td>0.074523</td>\n",
              "      <td>0.281104</td>\n",
              "      <td>0.239160</td>\n",
              "      <td>1.000000</td>\n",
              "      <td>0.343177</td>\n",
              "    </tr>\n",
              "    <tr>\n",
              "      <th>sport_words</th>\n",
              "      <td>0.078680</td>\n",
              "      <td>0.138580</td>\n",
              "      <td>0.185942</td>\n",
              "      <td>0.275769</td>\n",
              "      <td>0.343177</td>\n",
              "      <td>1.000000</td>\n",
              "    </tr>\n",
              "  </tbody>\n",
              "</table>\n",
              "</div>\n",
              "      <button class=\"colab-df-convert\" onclick=\"convertToInteractive('df-1025beca-e0cd-4f70-82a8-9160507e1dfb')\"\n",
              "              title=\"Convert this dataframe to an interactive table.\"\n",
              "              style=\"display:none;\">\n",
              "        \n",
              "  <svg xmlns=\"http://www.w3.org/2000/svg\" height=\"24px\"viewBox=\"0 0 24 24\"\n",
              "       width=\"24px\">\n",
              "    <path d=\"M0 0h24v24H0V0z\" fill=\"none\"/>\n",
              "    <path d=\"M18.56 5.44l.94 2.06.94-2.06 2.06-.94-2.06-.94-.94-2.06-.94 2.06-2.06.94zm-11 1L8.5 8.5l.94-2.06 2.06-.94-2.06-.94L8.5 2.5l-.94 2.06-2.06.94zm10 10l.94 2.06.94-2.06 2.06-.94-2.06-.94-.94-2.06-.94 2.06-2.06.94z\"/><path d=\"M17.41 7.96l-1.37-1.37c-.4-.4-.92-.59-1.43-.59-.52 0-1.04.2-1.43.59L10.3 9.45l-7.72 7.72c-.78.78-.78 2.05 0 2.83L4 21.41c.39.39.9.59 1.41.59.51 0 1.02-.2 1.41-.59l7.78-7.78 2.81-2.81c.8-.78.8-2.07 0-2.86zM5.41 20L4 18.59l7.72-7.72 1.47 1.35L5.41 20z\"/>\n",
              "  </svg>\n",
              "      </button>\n",
              "      \n",
              "  <style>\n",
              "    .colab-df-container {\n",
              "      display:flex;\n",
              "      flex-wrap:wrap;\n",
              "      gap: 12px;\n",
              "    }\n",
              "\n",
              "    .colab-df-convert {\n",
              "      background-color: #E8F0FE;\n",
              "      border: none;\n",
              "      border-radius: 50%;\n",
              "      cursor: pointer;\n",
              "      display: none;\n",
              "      fill: #1967D2;\n",
              "      height: 32px;\n",
              "      padding: 0 0 0 0;\n",
              "      width: 32px;\n",
              "    }\n",
              "\n",
              "    .colab-df-convert:hover {\n",
              "      background-color: #E2EBFA;\n",
              "      box-shadow: 0px 1px 2px rgba(60, 64, 67, 0.3), 0px 1px 3px 1px rgba(60, 64, 67, 0.15);\n",
              "      fill: #174EA6;\n",
              "    }\n",
              "\n",
              "    [theme=dark] .colab-df-convert {\n",
              "      background-color: #3B4455;\n",
              "      fill: #D2E3FC;\n",
              "    }\n",
              "\n",
              "    [theme=dark] .colab-df-convert:hover {\n",
              "      background-color: #434B5C;\n",
              "      box-shadow: 0px 1px 3px 1px rgba(0, 0, 0, 0.15);\n",
              "      filter: drop-shadow(0px 1px 2px rgba(0, 0, 0, 0.3));\n",
              "      fill: #FFFFFF;\n",
              "    }\n",
              "  </style>\n",
              "\n",
              "      <script>\n",
              "        const buttonEl =\n",
              "          document.querySelector('#df-1025beca-e0cd-4f70-82a8-9160507e1dfb button.colab-df-convert');\n",
              "        buttonEl.style.display =\n",
              "          google.colab.kernel.accessAllowed ? 'block' : 'none';\n",
              "\n",
              "        async function convertToInteractive(key) {\n",
              "          const element = document.querySelector('#df-1025beca-e0cd-4f70-82a8-9160507e1dfb');\n",
              "          const dataTable =\n",
              "            await google.colab.kernel.invokeFunction('convertToInteractive',\n",
              "                                                     [key], {});\n",
              "          if (!dataTable) return;\n",
              "\n",
              "          const docLinkHtml = 'Like what you see? Visit the ' +\n",
              "            '<a target=\"_blank\" href=https://colab.research.google.com/notebooks/data_table.ipynb>data table notebook</a>'\n",
              "            + ' to learn more about interactive tables.';\n",
              "          element.innerHTML = '';\n",
              "          dataTable['output_type'] = 'display_data';\n",
              "          await google.colab.output.renderOutput(dataTable, element);\n",
              "          const docLink = document.createElement('div');\n",
              "          docLink.innerHTML = docLinkHtml;\n",
              "          element.appendChild(docLink);\n",
              "        }\n",
              "      </script>\n",
              "    </div>\n",
              "  </div>\n",
              "  "
            ]
          },
          "metadata": {},
          "execution_count": 111
        }
      ]
    },
    {
      "cell_type": "code",
      "source": [
        "def jaccard_vector_fun(x, y,topic):\n",
        "    intersect = 0\n",
        "    union = 0\n",
        "    for i,val in enumerate(x):\n",
        "      if x[i]&y[i]!=0:\n",
        "        intersect +=1\n",
        "      if x[i]|y[i]!=0:\n",
        "        union +=1\n",
        "    res = intersect / union\n",
        "    print('Topic: ',topic,', Shared: ',intersect,', Total: ',union,', Similarity: ',res,', Distance: ',1-res)"
      ],
      "metadata": {
        "id": "o2QRmPBvVHjy"
      },
      "execution_count": 112,
      "outputs": []
    },
    {
      "cell_type": "code",
      "source": [
        "jaccard_vector_fun(vector_matrix_array[0] ,vector_matrix_array[2],'News')\n",
        "jaccard_vector_fun(vector_matrix_array[0] ,vector_matrix_array[3],'Science')\n",
        "jaccard_vector_fun(vector_matrix_array[0],vector_matrix_array[4],'Shopping')\n",
        "jaccard_vector_fun(vector_matrix_array[0],vector_matrix_array[5],'Sport')"
      ],
      "metadata": {
        "colab": {
          "base_uri": "https://localhost:8080/"
        },
        "id": "BI1Vd2q_WYzU",
        "outputId": "c825c0b6-83d0-4b14-a187-634828d4b6b5"
      },
      "execution_count": 113,
      "outputs": [
        {
          "output_type": "stream",
          "name": "stdout",
          "text": [
            "Topic:  News , Shared:  92 , Total:  3087 , Similarity:  0.029802397149335923 , Distance:  0.970197602850664\n",
            "Topic:  Science , Shared:  99 , Total:  3996 , Similarity:  0.024774774774774775 , Distance:  0.9752252252252253\n",
            "Topic:  Shopping , Shared:  114 , Total:  3996 , Similarity:  0.028528528528528527 , Distance:  0.9714714714714715\n",
            "Topic:  Sport , Shared:  108 , Total:  3645 , Similarity:  0.02962962962962963 , Distance:  0.9703703703703703\n"
          ]
        }
      ]
    },
    {
      "cell_type": "code",
      "source": [
        "jaccard_vector_fun(vector_matrix_array[1] ,vector_matrix_array[2],'News')\n",
        "jaccard_vector_fun(vector_matrix_array[1] ,vector_matrix_array[3],'Science')\n",
        "jaccard_vector_fun(vector_matrix_array[1],vector_matrix_array[4],'Shopping')\n",
        "jaccard_vector_fun(vector_matrix_array[1],vector_matrix_array[5],'Sport')"
      ],
      "metadata": {
        "colab": {
          "base_uri": "https://localhost:8080/"
        },
        "id": "HZY31utjbMjG",
        "outputId": "7a67a9e0-6a6e-4ba3-ef6d-14a15b309427"
      },
      "execution_count": 114,
      "outputs": [
        {
          "output_type": "stream",
          "name": "stdout",
          "text": [
            "Topic:  News , Shared:  241 , Total:  4507 , Similarity:  0.053472376303527844 , Distance:  0.9465276236964721\n",
            "Topic:  Science , Shared:  253 , Total:  5385 , Similarity:  0.046982358402971214 , Distance:  0.9530176415970288\n",
            "Topic:  Shopping , Shared:  285 , Total:  5371 , Similarity:  0.0530627443679017 , Distance:  0.9469372556320983\n",
            "Topic:  Sport , Shared:  343 , Total:  4937 , Similarity:  0.06947538991290257 , Distance:  0.9305246100870974\n"
          ]
        }
      ]
    }
  ]
}