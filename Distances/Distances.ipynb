{
  "nbformat": 4,
  "nbformat_minor": 0,
  "metadata": {
    "colab": {
      "name": "Distances.ipynb",
      "provenance": [],
      "collapsed_sections": [],
      "authorship_tag": "ABX9TyNVlRnwIQPq9Hd20epr0fGn",
      "include_colab_link": true
    },
    "kernelspec": {
      "name": "python3",
      "display_name": "Python 3"
    },
    "language_info": {
      "name": "python"
    }
  },
  "cells": [
    {
      "cell_type": "markdown",
      "metadata": {
        "id": "view-in-github",
        "colab_type": "text"
      },
      "source": [
        "<a href=\"https://colab.research.google.com/github/Elizav555/Data_Mining/blob/main/Distances/Distances.ipynb\" target=\"_parent\"><img src=\"https://colab.research.google.com/assets/colab-badge.svg\" alt=\"Open In Colab\"/></a>"
      ]
    },
    {
      "cell_type": "markdown",
      "source": [
        "\n",
        "https://www.thegamer.com/horizon-forbidden-west-review-ps5/\n",
        "read://https_www.thegamer.com/?url=https%3A%2F%2Fwww.thegamer.com%2Fhorizon-forbidden-west-review-ps5%2F\n",
        "\n"
      ],
      "metadata": {
        "id": "MHawIn8m6iW5"
      }
    },
    {
      "cell_type": "code",
      "execution_count": 136,
      "metadata": {
        "colab": {
          "base_uri": "https://localhost:8080/"
        },
        "id": "Ht5P2QLn6ORL",
        "outputId": "e971e979-ad25-44b9-f1da-3999d9d430ef"
      },
      "outputs": [
        {
          "output_type": "stream",
          "name": "stdout",
          "text": [
            "[nltk_data] Downloading package punkt to /root/nltk_data...\n",
            "[nltk_data]   Package punkt is already up-to-date!\n",
            "[nltk_data] Downloading package stopwords to /root/nltk_data...\n",
            "[nltk_data]   Package stopwords is already up-to-date!\n"
          ]
        },
        {
          "output_type": "execute_result",
          "data": {
            "text/plain": [
              "True"
            ]
          },
          "metadata": {},
          "execution_count": 136
        }
      ],
      "source": [
        "import nltk\n",
        "import requests\n",
        "import string\n",
        "import pandas as pd\n",
        "from bs4 import BeautifulSoup\n",
        "from nltk.tokenize import word_tokenize\n",
        "from nltk.corpus import stopwords\n",
        "nltk.download('punkt')\n",
        "nltk.download('stopwords')"
      ]
    },
    {
      "cell_type": "code",
      "source": [
        "url = 'https://www.thegamer.com/horizon-forbidden-west-review-ps5/'\n",
        "headers = requests.utils.default_headers()\n",
        "headers.update(\n",
        "    {\n",
        "        'User-Agent': 'My User Agent 1.0',\n",
        "    }\n",
        ")\n",
        "response = requests.get(url, headers=headers)\n",
        "soup = BeautifulSoup(response.text)\n",
        "root = soup.body\n",
        "root_childs = [e.name for e in root.descendants if e.name is not None]\n",
        "#print(set(root_childs))"
      ],
      "metadata": {
        "id": "l_3lwDDc60J6"
      },
      "execution_count": 138,
      "outputs": []
    },
    {
      "cell_type": "code",
      "source": [
        "textTags = soup.find_all(['p','h1','h2','h3','h4','label','a','ul','span','li','button'])\n",
        "whole_text = ' '.join(map(lambda it: it.text, textTags)) \n",
        "all_words = word_tokenize(whole_text)\n",
        "#print(all_words)\n",
        "print('Number of all words: ',len(all_words))"
      ],
      "metadata": {
        "colab": {
          "base_uri": "https://localhost:8080/"
        },
        "id": "x1KDYqCpDGKD",
        "outputId": "4411a673-9f98-429c-c476-624a281a86d6"
      },
      "execution_count": 139,
      "outputs": [
        {
          "output_type": "stream",
          "name": "stdout",
          "text": [
            "Number of all words:  2686\n"
          ]
        }
      ]
    },
    {
      "cell_type": "code",
      "source": [
        "def process_whole_text(all_words_set):\n",
        "  symb_to_remove = stopwords.words('english') +  list(string.punctuation) +  list(string.digits) + list('’')\n",
        "  text_cleared = [word for word in all_words_set if word not in symb_to_remove]\n",
        "  text_cleared = set(text_cleared)\n",
        "  #print(text_cleared)\n",
        "  print('Number of cleared words: ',len(text_cleared))\n",
        "  return text_cleared\n",
        "\n",
        "horizon_article = process_whole_text(all_words)"
      ],
      "metadata": {
        "colab": {
          "base_uri": "https://localhost:8080/"
        },
        "id": "Xze1moSeF_rj",
        "outputId": "fc69b665-625a-478b-9a2d-1b6419912f4f"
      },
      "execution_count": 140,
      "outputs": [
        {
          "output_type": "stream",
          "name": "stdout",
          "text": [
            "Number of cleared words:  744\n"
          ]
        }
      ]
    },
    {
      "cell_type": "markdown",
      "source": [
        "https://keywordgenerator.net\n",
        "\n",
        "Сервис, откуда я взяла слова для топиков"
      ],
      "metadata": {
        "id": "IAtJrao7NN6u"
      }
    },
    {
      "cell_type": "code",
      "source": [
        "def proccess_key_words(file_name ):\n",
        "  dataset = pd.read_csv(file_name)\n",
        "  dataset = dataset['Keyword']\n",
        "  words = dataset.values.tolist()\n",
        "  words = list(map(lambda it: it.split(' ') ,words))\n",
        "  words_set = list()\n",
        "  for words in words:\n",
        "    words_set+=words\n",
        "  words_set = set(words_set)\n",
        "  words_set-=set([''])  \n",
        "  return words_set"
      ],
      "metadata": {
        "id": "oIpYanwdQDWZ"
      },
      "execution_count": 141,
      "outputs": []
    },
    {
      "cell_type": "code",
      "source": [
        "news_words = proccess_key_words('news.csv')\n",
        "science_words = proccess_key_words('science.csv')\n",
        "shopping_words = proccess_key_words('shopping.csv')\n",
        "sport_words = proccess_key_words('sport.csv')\n",
        "# print('News: ',news_words,'\\n', len(news_words))\n",
        "# print('Science: ',science_words,'\\n', len(science_words))\n",
        "# print('Shopping: ',shopping_words,'\\n', len(shopping_words))\n",
        "# print('Sport: ',sport_words,'\\n', len(sport_words))\n",
        "print('News: ', len(news_words))\n",
        "print('Science: ', len(science_words))\n",
        "print('Shopping: ', len(shopping_words))\n",
        "print('Sport: ', len(sport_words))"
      ],
      "metadata": {
        "colab": {
          "base_uri": "https://localhost:8080/"
        },
        "id": "DdoRe6mGVwvs",
        "outputId": "01b32a06-ebf8-4bd1-e1c3-37262fbaee6b"
      },
      "execution_count": 142,
      "outputs": [
        {
          "output_type": "stream",
          "name": "stdout",
          "text": [
            "News:  877\n",
            "Science:  984\n",
            "Shopping:  948\n",
            "Sport:  853\n"
          ]
        }
      ]
    },
    {
      "cell_type": "code",
      "source": [
        "def parse_from_dictionary(url):\n",
        "  response_dictionary = requests.get(url)\n",
        "  soup_dictionary = BeautifulSoup(response_dictionary.text)\n",
        "  textTags_dictionary = soup_dictionary.find_all('a',class_='btnpopover')\n",
        "  whole_text_dictionary = ' '.join(map(lambda it: it.text, textTags_dictionary)) \n",
        "  all_words_dictionary = word_tokenize(whole_text_dictionary)\n",
        "  return(set(all_words_dictionary))\n"
      ],
      "metadata": {
        "id": "BftVXZaAaGHv"
      },
      "execution_count": 143,
      "outputs": []
    },
    {
      "cell_type": "markdown",
      "source": [
        "https://www.niftyword.com/related-words/science/ связанные слова"
      ],
      "metadata": {
        "id": "VhpZxc--gPWF"
      }
    },
    {
      "cell_type": "code",
      "source": [
        "news_words = news_words.union(parse_from_dictionary('https://www.niftyword.com/related-words/news/'))\n",
        "science_words = science_words.union(parse_from_dictionary('https://www.niftyword.com/related-words/science/'))\n",
        "shopping_words= shopping_words.union(parse_from_dictionary('https://www.niftyword.com/related-words/shopping/'))\n",
        "sport_words =sport_words.union(parse_from_dictionary('https://www.niftyword.com/related-words/sport/'))\n",
        "# print('News: ',news_words,'\\n', len(news_words))\n",
        "# print('Science: ',science_words,'\\n', len(science_words))\n",
        "# print('Shopping: ',shopping_words,'\\n', len(shopping_words))\n",
        "# print('Sport: ',sport_words,'\\n', len(sport_words))\n",
        "print('News: ', len(news_words))\n",
        "print('Science: ', len(science_words))\n",
        "print('Shopping: ', len(shopping_words))\n",
        "print('Sport: ', len(sport_words))"
      ],
      "metadata": {
        "colab": {
          "base_uri": "https://localhost:8080/"
        },
        "id": "BOVWbjNLfZA2",
        "outputId": "3336a78e-cca1-4413-e79e-b0560d680a8e"
      },
      "execution_count": 145,
      "outputs": [
        {
          "output_type": "stream",
          "name": "stdout",
          "text": [
            "News:  2690\n",
            "Science:  3596\n",
            "Shopping:  3623\n",
            "Sport:  3269\n"
          ]
        }
      ]
    },
    {
      "cell_type": "code",
      "source": [
        "def jaccard_fun(a,b,topic):\n",
        "  shared = a.intersection(b)\n",
        "  total = a.union(b)\n",
        "  distance = len(shared) / len(total)\n",
        "  print('Topic: ',topic,', Shared: ',len(shared),', Total: ',len(total),', Distance: ',distance)"
      ],
      "metadata": {
        "id": "eL36arf_jMZx"
      },
      "execution_count": 147,
      "outputs": []
    },
    {
      "cell_type": "code",
      "source": [
        "jaccard_fun(horizon_article ,news_words,'News')\n",
        "jaccard_fun(horizon_article ,science_words,'Science')\n",
        "jaccard_fun(horizon_article ,shopping_words,'Shopping')\n",
        "jaccard_fun(horizon_article ,sport_words,'Sport')"
      ],
      "metadata": {
        "colab": {
          "base_uri": "https://localhost:8080/"
        },
        "id": "HC91NrRTkCXh",
        "outputId": "71b400b9-ae0d-4fa0-86e5-81f374bc1a7e"
      },
      "execution_count": 148,
      "outputs": [
        {
          "output_type": "stream",
          "name": "stdout",
          "text": [
            "Topic:  News , Shared:  94 , Total:  3340 , Distance:  0.0281437125748503\n",
            "Topic:  Science , Shared:  116 , Total:  4224 , Distance:  0.027462121212121212\n",
            "Topic:  Shopping , Shared:  120 , Total:  4247 , Distance:  0.02825523899222981\n",
            "Topic:  Sport , Shared:  121 , Total:  3892 , Distance:  0.031089414182939364\n"
          ]
        }
      ]
    },
    {
      "cell_type": "markdown",
      "source": [
        "https://www.topendsports.com/world/lists/popular-sport/"
      ],
      "metadata": {
        "id": "KbBjXNjUpNez"
      }
    },
    {
      "cell_type": "code",
      "source": [
        "response_dictionary = requests.get('https://www.topendsports.com/world/lists/popular-sport/')\n",
        "soup_dictionary = BeautifulSoup(response_dictionary.text)\n",
        "textTags_dictionary = soup_dictionary.find_all(['p','h1','li','a'])\n",
        "whole_text_dictionary = ' '.join(map(lambda it: it.text, textTags_dictionary)) \n",
        "all_words_dictionary = word_tokenize(whole_text_dictionary)\n",
        "#print(all_words_dictionary)\n",
        "print('Number of all words: ',len(all_words_dictionary))"
      ],
      "metadata": {
        "colab": {
          "base_uri": "https://localhost:8080/"
        },
        "id": "dVIeoMuWodWT",
        "outputId": "c783b9c3-f672-43c7-8bd5-21f0aa5bd6ee"
      },
      "execution_count": 150,
      "outputs": [
        {
          "output_type": "stream",
          "name": "stdout",
          "text": [
            "Number of all words:  16194\n"
          ]
        }
      ]
    },
    {
      "cell_type": "code",
      "source": [
        "sport_article = process_whole_text(all_words_dictionary)\n",
        "#print(sport_article)\n",
        "print('Number of cleared words: ',len(sport_article))"
      ],
      "metadata": {
        "colab": {
          "base_uri": "https://localhost:8080/"
        },
        "id": "RQXl2TnfpxtQ",
        "outputId": "0455098d-913f-44b6-d453-c8b6c964b0c7"
      },
      "execution_count": 152,
      "outputs": [
        {
          "output_type": "stream",
          "name": "stdout",
          "text": [
            "Number of cleared words:  2940\n",
            "Number of cleared words:  2940\n"
          ]
        }
      ]
    },
    {
      "cell_type": "code",
      "source": [
        "jaccard_fun(sport_article ,news_words,'News')\n",
        "jaccard_fun(sport_article ,science_words,'Science')\n",
        "jaccard_fun(sport_article ,shopping_words,'Shopping')\n",
        "jaccard_fun(sport_article ,sport_words,'Sport')"
      ],
      "metadata": {
        "colab": {
          "base_uri": "https://localhost:8080/"
        },
        "id": "Lhfd_GRAp-OK",
        "outputId": "33bb382f-4588-4924-fdcf-11b9d931c196"
      },
      "execution_count": 153,
      "outputs": [
        {
          "output_type": "stream",
          "name": "stdout",
          "text": [
            "Topic:  News , Shared:  332 , Total:  5298 , Distance:  0.06266515666289166\n",
            "Topic:  Science , Shared:  390 , Total:  6146 , Distance:  0.06345590628050765\n",
            "Topic:  Shopping , Shared:  422 , Total:  6141 , Distance:  0.0687184497638821\n",
            "Topic:  Sport , Shared:  487 , Total:  5722 , Distance:  0.08511010136315973\n"
          ]
        }
      ]
    }
  ]
}